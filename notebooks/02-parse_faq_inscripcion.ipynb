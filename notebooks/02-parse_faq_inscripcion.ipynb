{
 "cells": [
  {
   "cell_type": "markdown",
   "id": "98478a68-7e34-4308-800c-bc8dec0d7d55",
   "metadata": {},
   "source": [
    "# Extracción de preguntas frecuentes y respuestas sobre inscripciones\n",
    "\n",
    "En primer lugar, se extraerán las preguntas y respuestas del mismo modo que en el notebook anterior."
   ]
  },
  {
   "cell_type": "code",
   "execution_count": 1,
   "id": "95c4abd8-26a2-4a11-8d8c-e88a76efb19e",
   "metadata": {},
   "outputs": [],
   "source": [
    "from bs4 import BeautifulSoup\n",
    "import requests\n",
    "import nlpaug.augmenter.word as naw"
   ]
  },
  {
   "cell_type": "code",
   "execution_count": 2,
   "id": "726983fa-db7e-4c71-b282-d08b5ae888ee",
   "metadata": {},
   "outputs": [],
   "source": [
    "url = \"https://www.uv.es/uvweb/universidad/es/estudios-grado/admision/preguntas-frecuentes-1286095200713.html\"\n",
    "r = requests.get(url)"
   ]
  },
  {
   "cell_type": "code",
   "execution_count": 3,
   "id": "9023c4b2-e7f6-41b9-bc60-ad0c43bfa109",
   "metadata": {},
   "outputs": [],
   "source": [
    "soup = BeautifulSoup(r.text, \"html.parser\")"
   ]
  },
  {
   "cell_type": "code",
   "execution_count": 4,
   "id": "490a54df-9aeb-4df1-b5ff-200ca836ba27",
   "metadata": {},
   "outputs": [],
   "source": [
    "s = soup.find(\"ul\", {\"class\": \"bloque-preguntas bp1286118204456\"})\n",
    "lines = s.find_all(\"li\", {\"class\": \"pregunta\"})"
   ]
  },
  {
   "cell_type": "code",
   "execution_count": 5,
   "id": "ff16bbb1-74fe-43b1-aa79-6fc9afec0847",
   "metadata": {},
   "outputs": [
    {
     "data": {
      "text/plain": [
       "<li class=\"pregunta\" id=\"12862344630271286118204456\">\n",
       "<a href=\"javascript:desplegar('12862344630271286118204456')\" style=\"text-decoration:none\">\n",
       "<h4>¿Qué es la preinscripción?</h4></a>\n",
       "<span class=\"fa fa-chevron-down lnktitleFaq12862344630271286118204456\"></span>\n",
       "<div class=\"bloque-contenido\">\n",
       "<div class=\"respuesta respuesta-lista\"><p>Es el procedimiento de admisión que sirve para ordenar, según la nota de admisión, a estudiantes que piden plaza en un grado. Es imprescindible realizar la preinscripción para poder obtener plaza en una universidad pública.</p>\n",
       "</div>\n",
       "</div>\n",
       "</li>"
      ]
     },
     "execution_count": 5,
     "metadata": {},
     "output_type": "execute_result"
    }
   ],
   "source": [
    "lines[0]"
   ]
  },
  {
   "cell_type": "code",
   "execution_count": 6,
   "id": "5da2a118-638b-4854-9532-868fcee5cb18",
   "metadata": {},
   "outputs": [],
   "source": [
    "faq_inscripciones = {}\n",
    "\n",
    "for line in lines:\n",
    "    pregunta = line.find(\"h4\").text\n",
    "    respuesta = line.find(\"p\").text\n",
    "    faq_inscripciones[pregunta] = respuesta"
   ]
  },
  {
   "cell_type": "code",
   "execution_count": 7,
   "id": "971d1612-ce5c-4371-87f7-054a63c98677",
   "metadata": {},
   "outputs": [
    {
     "data": {
      "text/plain": [
       "{'¿Qué es la preinscripción?': 'Es el procedimiento de admisión que sirve para ordenar, según la nota de admisión, a estudiantes que piden plaza en un grado. Es imprescindible realizar la preinscripción para poder obtener plaza en una universidad pública.',\n",
       " 'Què és el districte universitari valencià?': 'El distrito universitario valenciano está formado por la oferta de plazas de las titulaciones de grado de las cinco universidades públicas valencianas: Universitat de València, Universitat Politècnica de València, Universitat Jaume I de Castelló, Universitat d’Alacant y Universitat Miguel Hernández de Elche.',\n",
       " '¿Cómo sé que me han dado una plaza en la Universidad?': 'Los estudiantes admitidos recibirán, en la dirección de correo electrónico que hayan indicado en la solicitud de preinscripción, un mensaje que incluirá el periodo de matrícula del estudiante e instrucciones.',\n",
       " '¿Con las PAU de la Comunitat Valenciana se puede acceder a las titulaciones universitarias del resto de comunidades autónomas?': 'Con independencia de la comunidad autónoma donde se hayan realizado las pruebas de acceso a la universidad (PAU, EBAU, EVAU) se puede solicitar plaza en cualquier titulación de cualquier universidad pública española. La totalidad de la oferta de plazas de las universidades públicas del conjunto del Estado, forman lo que se denomina distrito universitario abierto.',\n",
       " '¿Quién puede realizar la preinscripción?': 'Para realizar la preinscripción en los estudios de grado de las universidades públicas valencianas, es necesario tener alguna de estas circunstancias académicas (requisitos o vías de acceso):',\n",
       " '¿Cuántas convocatorias de preinscripción existen?': 'Para regular el acceso a la universidad cada curso académico, para todas las vías de acceso mencionadas, existe una convocatoria única de preinscripción al año.',\n",
       " '¿Cuándo comienza el plazo de preinscripción?': 'El plazo para realizar la preinscripción siempre comienza en una fecha posterior a la resolución de las PAU, normalmente al comienzo de la segunda quincena de junio.',\n",
       " '¿Desde dónde y cómo se hace la preinscripción?': 'La preinscripción en la Comunitat Valenciana se realiza telemáticamente, mediante el asistente telemático de la página de\\xa0 la Conselleria con competencias en Universidades. A la aplicación de preinscripción se accede desde: https://appweb.edu.gva.es/preinscripcion/',\n",
       " '¿Cuál es la prelación o prioridad para la adjudicación de plazas?': 'Los candidatos con las PAU aprobadas en cursos anteriores (en convocatorias ordinarias o extraordinarias) y los que las aprueben en la convocatoria ordinaria del año en curso, tienen preferencia sobre aquellas personas que aprueban las PAU en la convocatoria extraordinaria.',\n",
       " 'Si se han hecho las PAU en la convocatoria de julio, ¿cuándo se debe realizar la preinscripción en el distrito universitario valenciano?': 'En el mismo plazo que los de la convocatoria de junio, aunque carezcan de las calificaciones. Si se han realizado las PAU en una de las universidades valencianas, el programa informático incorpora las calificaciones antes del proceso de baremación y de adjudicación de plazas. Si se han realizado en una universidad de fuera del distrito valenciano, deberá aportarse documentación con las calificaciones',\n",
       " '¿Qué ocurre si se presenta más de una solicitud de preinscripción en el sistema universitario valenciano?': 'En caso de presentar más de una solicitud de preinscripción, sólo será válida la última presentada.',\n",
       " '¿Hasta cuántas titulaciones se pueden solicitar en el procedimiento de preinscripción?': 'El asistente telemático desde el que se realiza la preinscripción permite solicitar, por orden de preferencia, hasta un máximo de 20 titulaciones de grados.',\n",
       " 'Además del trámite telemático, ¿hay que presentar algún documento en papel?': 'La preinscripción es totalmente telemática desde 2019. No es necesario presentar ninguna validación en papel.',\n",
       " '¿Qué documentación es necesario adjuntar telemáticamente cuando hace la preinscripción un/a estudiante de bachillerato?': 'Si se han realizado las PAU en la Comunitat Valenciana en las convocatorias 2012 y posteriores y/o se tiene la exención de las PAU de 2017 (con la acreditación de exención porque se solicitó durante el curso 2016-2017), no es necesario subir ninguna documentación a menos que sea necesario acreditar:',\n",
       " '¿Qué documentación es necesario adjuntar telemáticamente para pedir plaza mediante cualquiera de las otras vías de acceso?': 'En general, deberá subirse la documentación que acredite el cumplimiento del requisito de acceso: certificado de notas más título, acreditación UNEDassis, la acreditación UNEDassis más PCE, certificación de superación de pruebas para mayores 25, 40 o 45 años, etc.',\n",
       " 'Una vez superada la prueba, ¿puedo matricularme directamente en la Universitat? \\r\\n': 'No. Tendrás que realizar la preinscripción (solicitud de plaza) en el plazo que se establezca para ello.\\xa0',\n",
       " '¿Cómo deben hacer la preinscripción los/las estudiantes de un sistema educativo extranjero que estén pendientes de la acreditación de la UNEDassis?': 'Con una nota provisional, porque la única forma de acceder a las universidades públicas es mediante la preinscripción.',\n",
       " '¿Existe reserva de plazas para algunos colectivos?': 'Sí. Se reservan para deportistas de alto nivel, de élite A y B y de alto rendimiento (10% para el grado en Ciencias de la Actividad Física y del Deporte, 5% para los grados en Fisioterapia y de Maestro/a en Educación Primaria y 3% para el resto de grados); estudiantes con discapacidad igual o superior al 33% (5%); titulaciones universitarias (3%); mayores de 25 años con las pruebas de acceso específicas superadas (3%); mayores de 40 años con la acreditación profesional (1%, salvo Medicina y Odontología, que no reservan plazas para esta cuota); y mayores de 45 años con las pruebas de acceso específicas superadas (1%).',\n",
       " '¿Cómo se accede a las dobles titulaciones?': 'Las dobles titulaciones se solicitan como cualquier otro grado, durante la preinscripción, pudiendo ponderar cualquier asignatura que pondere en alguno de los dos grados. Se aplicará la ponderación más alta.',\n",
       " '¿Se pueden estudiar dos grados a la vez?': 'Sí. Una opción es mediante las dobles titulaciones que ofrece la Universidad. Otra es conseguir plaza por preinscripción en un grado, matricularse, y posteriormente, en la preinscripción del curso siguiente, solicitar plaza en la segunda titulación que interese, ya que por preinscripción sólo se puede obtener una plaza en cada curso académico.',\n",
       " 'Mi nombre no corresponde a mi identidad de género, pero no he hecho el cambio registral. ¿Puedo preinscribirme con mi nombre de uso común?': 'Sobre el procedimiento de cambio de nombre, encontrarás más información en\\xa0www.uv.es/diversitats',\n",
       " '¿Cuándo se puede consultar el resultado de la preinscripción?': 'La Conselleria de Innovación, Universidades, Ciencia y Sociedad es quien resuelve la preinscripción y quien fija los plazos del procedimiento. Normalmente, el resultado de la preinscripción suele hacerse público en torno a las 14 horas del día de la fecha fijada (aproximadamente hacia mediados de julio).',\n",
       " '¿Cómo consultar el resultado de la preinscripción?': 'La Conselleria de Innovación, Universidades, Ciencia y Sociedad digital envía un SMS para comunicar qué plaza se ha obtenido o que no se ha obtenido ninguna.',\n",
       " '¿Qué ocurre si alguien no se matricula el día y la hora que tenía asignados?': 'Se perderá la posibilidad de elegir grupo. Se entiende que se renuncia a la plaza si, al finalizar el plazo de matrícula, el interesado no se ha matriculado.',\n",
       " '¿Qué importancia tiene el orden que se ponga en la relación de titulaciones de la preinscripción?': 'Es crucial. Se deben ordenar las titulaciones según las preferencias; es decir, en primer lugar la que más interese seguida del resto. Cuando se adjudica plaza en una titulación, ya no se tiene opción en el resto de titulaciones situadas por debajo del grado adjudicado. Por el contrario, en las titulaciones que están por encima del grado adjudicado, se estará en lista de espera.',\n",
       " '¿Qué ocurre si no se consigue plaza en la primera opción solicitada en la preinscripción?': 'Si se ha obtenido una plaza que no era la solicitada en primer lugar, podrá permanecer en lista de espera en aquellas titulaciones con un número de orden superior en la preinscripción al de la titulación en la que se ha obtenido plaza.',\n",
       " '¿Qué es la lista de espera de las titulaciones?': 'Cuando un grado tiene todas las plazas cubiertas, se genera una lista de espera. En la Universidad de Valencia, un/a estudiante estará en tantas listas de espera como titulaciones haya solicitado en la preinscripción por delante del grado donde ha sido admitido/a. El orden en la lista se corresponde con la nota de admisión que tiene el estudiante para esa titulación. Si se producen vacantes en la matrícula, los centros se ofrecen a los estudiantes que están en la lista de espera.',\n",
       " '¿Cómo funcionan las listas de espera en la Universidad de Valencia?': 'Hay que prestar atención a la forma en que se gestionan las listas de espera en cada universidad, porque el funcionamiento no es el mismo.',\n",
       " '¿Dónde se pueden consultar las fechas de los tres llamamientos de lista de espera de la Universidad de Valencia?': 'La información está accesible en la web de la Universidad, que explica el funcionamiento de las listas de espera.',\n",
       " 'Si en la preinscripción se han solicitado 6 titulaciones y se obtiene plaza en la ubicada en cuarto lugar según el orden de preferencia establecido por el estudiante, ¿se podría renunciar a esta plaza y solicitar estar en lista de espera de la ubicada en quinta posición?': 'No, si se logra plaza en la cuarta titulación podrá estar en lista de espera de las tres titulaciones que el estudiante puso por delante en la ordenación de la solicitud de preinscripción, pero nunca en las que haya puesto por detrás; es decir, no podría estar en las listas de espera de la quinta ni de la sexta.',\n",
       " 'Si se consigue plaza en la Universidad de Valencia y se realiza la matrícula, ¿se pierde la posibilidad de acceder a las plazas en las que se esté en lista de espera (en titulaciones de la misma o diferente universidad de la Comunidad Valenciana u otras comunidades)?': 'No. Si no se quiere perder la plaza adjudicada, es necesario matricularse. Si después de haber hecho esta matrícula se consigue plaza en cualquier otra titulación de la misma universidad o una diferente, la matrícula inicial queda anulada automáticamente si ambas titulaciones son de la UV. Si la nueva titulación pertenece a otra universidad, deberá anular la matrícula realizada y posteriormente se podrá matricular en la plaza conseguida por lista de espera.',\n",
       " '¿Qué son las notas de corte?': 'La nota de corte de una titulación es la nota del último estudiante admitido en esa titulación. La preinscripción realiza la ordenación de las solicitudes en una titulación ordenando de mayor a menor las notas de admisión. Puesto que, además, adjudica la totalidad de las plazas que se ofrecen de cada titulación, la nota de corte será la nota de admisión del estudiante al que se le adjudica la última plaza en el procedimiento de preinscripción.',\n",
       " '¿Por qué en la Universidad de Valencia tenemos cuatro listas de notas de cortes distintas?': 'En la Universidad de Valencia, en cada uno de los 3 llamamientos de lista de espera se realiza una nueva ordenación de notas. Así pues, la resolución de la preinscripción más cada uno de los tres llamamientos, da lugar a una nueva lista de notas de corte.',\n",
       " '¿Se puede acceder a titulaciones de grado con otra titulación universitaria?': 'Las personas con titulación universitaria, grado o máster oficial, podrán realizar la preinscripción a cualquier grado impartido por la Universitat de València. Existe una cuota reservada para personas con titulaciones universitarias. Su nota de acceso será la nota media de su título.',\n",
       " '¿Con un título universitario extranjero se puede acceder a un grado oficial de cualquier universidad española por la cuota reserva a titulados universitarios?': 'Si, siempre que se obtenga la homologación o equivalencia del título universitario otorgada por el Ministerio de Universidades español. Desde este ministerio también debe tramitarse el certificado con la equivalencia de calificaciones medias de estudios universitarios realizados en el extranjero. Ambos procedimientos se pueden realizar online desde la web del\\xa0Ministerio de Universidades español.'}"
      ]
     },
     "execution_count": 7,
     "metadata": {},
     "output_type": "execute_result"
    }
   ],
   "source": [
    "faq_inscripciones"
   ]
  },
  {
   "cell_type": "markdown",
   "id": "871fb78c-9994-4ee6-8de2-a206d2270386",
   "metadata": {},
   "source": [
    "## Data augmentation para obtener más frases de entrenamiento\n",
    "\n",
    "Esta información la queremos añadir como frases de entrenamiento y respuestas del intent faq_inscripciones.\n",
    "\n",
    "Sin embargo, cada intent debe tener un mínimo de dos frases de entrenamiento y actualmente solo se tiene una.\n",
    "\n",
    "Para solucionarlo utilizaremos *Back Translation* una técnica de *Data Augmentation* que consiste en traducir la frase original a otro idioma y luego de vuelva al español para obtener una frase diferente con el mismo significado.\n",
    "\n",
    "En este caso utilizaremos los idiomas inglés, alemán, francés e italiano para realizar este aumento. Con la frase original tendremos un total de cinco frases de entrenamiento para cada intent."
   ]
  },
  {
   "cell_type": "code",
   "execution_count": 8,
   "id": "7224131d-af34-44a9-9eff-11ef5a02b13d",
   "metadata": {},
   "outputs": [],
   "source": [
    "back_translation_aug_en = naw.BackTranslationAug(\n",
    "    from_model_name=\"Helsinki-NLP/opus-mt-es-en\",\n",
    "    to_model_name=\"Helsinki-NLP/opus-mt-en-es\",\n",
    ")"
   ]
  },
  {
   "cell_type": "code",
   "execution_count": 9,
   "id": "45ec594d-78c3-4ece-961a-506eb875e8b7",
   "metadata": {},
   "outputs": [],
   "source": [
    "back_translation_aug_de = naw.BackTranslationAug(\n",
    "    from_model_name=\"Helsinki-NLP/opus-mt-es-de\",\n",
    "    to_model_name=\"Helsinki-NLP/opus-mt-de-es\",\n",
    ")"
   ]
  },
  {
   "cell_type": "code",
   "execution_count": 10,
   "id": "3e7291fd-4635-45bc-a12b-3d5513a6b2ed",
   "metadata": {},
   "outputs": [],
   "source": [
    "back_translation_aug_fr = naw.BackTranslationAug(\n",
    "    from_model_name=\"Helsinki-NLP/opus-mt-es-fr\",\n",
    "    to_model_name=\"Helsinki-NLP/opus-mt-fr-es\",\n",
    ")"
   ]
  },
  {
   "cell_type": "code",
   "execution_count": 11,
   "id": "ad5af716-3f5d-4b84-8090-02ec755a13d4",
   "metadata": {},
   "outputs": [],
   "source": [
    "back_translation_aug_it = naw.BackTranslationAug(\n",
    "    from_model_name=\"Helsinki-NLP/opus-mt-es-it\",\n",
    "    to_model_name=\"Helsinki-NLP/opus-mt-it-es\",\n",
    ")"
   ]
  },
  {
   "cell_type": "markdown",
   "id": "793747fb-7a7a-4efa-b3a3-a51c52ac879e",
   "metadata": {},
   "source": [
    "## Cambiar estructura de los datos para utilizarlos como frases de entrenamiento y respuestas\n",
    "\n",
    "Ahora transformaremos los datos y los guardaremos en ficheros de texto con la estructura necesaria para poder utilizarlos en el chatbot."
   ]
  },
  {
   "cell_type": "code",
   "execution_count": 12,
   "id": "24d1e7f9-6cde-4045-8e43-87d8f5b0fce8",
   "metadata": {},
   "outputs": [],
   "source": [
    "nlu = []\n",
    "responses = []\n",
    "\n",
    "for n, (pregunta, respuesta) in enumerate(faq_inscripciones.items()):\n",
    "    pregunta_yml = \"- intent: faq_inscripciones/\" + str(n) + \"\\n  examples: |\"\n",
    "    pregunta_yml += \"\\n    - \".join(\n",
    "        [\n",
    "            \"\",\n",
    "            pregunta,\n",
    "            back_translation_aug_en.augment(pregunta),\n",
    "            back_translation_aug_de.augment(pregunta),\n",
    "            back_translation_aug_fr.augment(pregunta),\n",
    "            back_translation_aug_it.augment(pregunta),\n",
    "        ]\n",
    "    )\n",
    "    nlu.append(pregunta_yml)\n",
    "    respuesta_yml = (\n",
    "        \"  utter_faq_inscripciones/\" + str(n) + ':\\n  - text: \"' + respuesta + '\"'\n",
    "    )\n",
    "    responses.append(respuesta_yml)"
   ]
  },
  {
   "cell_type": "code",
   "execution_count": 13,
   "id": "7e8aa82b-543b-4576-ad43-b18013619103",
   "metadata": {},
   "outputs": [
    {
     "data": {
      "text/plain": [
       "['- intent: faq_inscripciones/0\\n  examples: |\\n    - ¿Qué es la preinscripción?\\n    - ¿Qué es el pre-registro?\\n    - ¿Cuál es el preregistro?\\n    - ¿Qué es la preinscripción?\\n    - ¿Qué es la pre-inscripción?',\n",
       " '- intent: faq_inscripciones/1\\n  examples: |\\n    - Què és el districte universitari valencià?\\n    - ¿Qué es el barrio universitari valenciaà?\\n    - ¿Qué es el distrito collegeari valencià?\\n    - ¿Qué es el área universitaria?\\n    - ¿Qué es el distrito universitario vale la pena?',\n",
       " '- intent: faq_inscripciones/2\\n  examples: |\\n    - ¿Cómo sé que me han dado una plaza en la Universidad?\\n    - ¿Cómo sé que me han dado un lugar en la universidad?\\n    - ¿Cómo sé que me dieron un puesto en la universidad?\\n    - ¿Cómo sé si he tenido un puesto en la universidad?\\n    - ¿Cómo sé que me dieron un puesto en la universidad?',\n",
       " '- intent: faq_inscripciones/3\\n  examples: |\\n    - ¿Con las PAU de la Comunitat Valenciana se puede acceder a las titulaciones universitarias del resto de comunidades autónomas?\\n    - ¿Con el PAU de la Comunidad Valenciana puedes acceder a los títulos universitarios del resto de las comunidades autónomas?\\n    - ¿Pueden los PAU de la Comunidad Valenciana beneficiarse de los títulos de enseñanza superior de las demás Comunidades Autónomas?\\n    - ¿Permiten los PAU de la Comunitat Valenciana acceder a los diplomas universitarios de otras comunidades autónomas?\\n    - Con las PAU de la Comunidad Valenciana, ¿es posible acceder a los títulos universitarios de las demás comunidades autónomas?',\n",
       " '- intent: faq_inscripciones/4\\n  examples: |\\n    - ¿Quién puede realizar la preinscripción?\\n    - ¿Quién puede hacer la pre-inscripción?\\n    - ¿Quién puede hacer la notificación previa?\\n    - ¿Quién puede hacer la preinscripción?\\n    - ¿Quién puede hacer la pre-inscripción?',\n",
       " '- intent: faq_inscripciones/5\\n  examples: |\\n    - ¿Cuántas convocatorias de preinscripción existen?\\n    - ¿Cuántas llamadas de preinscripción hay?\\n    - ¿Cuántas notificaciones previas hay?\\n    - ¿Cuántas llamadas de preinscripción?\\n    - ¿Cuántas invitaciones pre-inscripción existen?',\n",
       " '- intent: faq_inscripciones/6\\n  examples: |\\n    - ¿Cuándo comienza el plazo de preinscripción?\\n    - ¿Cuándo comienza el período de preinscripción?\\n    - ¿Cuándo empieza la notificación previa?\\n    - ¿Cuándo comienza el plazo de preinscripción?\\n    - ¿Cuándo empieza el período de preinscripción?',\n",
       " '- intent: faq_inscripciones/7\\n  examples: |\\n    - ¿Desde dónde y cómo se hace la preinscripción?\\n    - ¿De dónde y cómo se realiza la preinscripción?\\n    - ¿De dónde y cómo se efectúa la notificación previa?\\n    - ¿De dónde viene la inscripción previa y cómo?\\n    - ¿De dónde y cómo se hace la pre-inscripción?',\n",
       " '- intent: faq_inscripciones/8\\n  examples: |\\n    - ¿Cuál es la prelación o prioridad para la adjudicación de plazas?\\n    - ¿Cuál es la prioridad o prioridad para la asignación de plazas?\\n    - ¿Qué prioridad o prioridad tiene la asignación de plazas?\\n    - ¿Cuál es la prioridad o la prioridad para la asignación de los asientos?\\n    - ¿Cuál es la prioridad o prioridad para la asignación de puestos?',\n",
       " '- intent: faq_inscripciones/9\\n  examples: |\\n    - Si se han hecho las PAU en la convocatoria de julio, ¿cuándo se debe realizar la preinscripción en el distrito universitario valenciano?\\n    - Si se han realizado UAE en la convocatoria de julio, ¿cuándo debe realizarse la preinscripción en el distrito universitario valenciano?\\n    - Si la PAU se hizo en la convocatoria de julio, ¿cuándo debería registrarse el preregistro en el distrito universitario de Valencia?\\n    - Si los PAU se hicieron en la convocatoria de julio, ¿cuándo debe realizarse la preinscripción en el distrito universitario valenciano?\\n    - Si las PAU se hicieron en la invitación de julio, ¿cuándo debería hacerse la pre-inscripción en el distrito universitario valenciano?',\n",
       " '- intent: faq_inscripciones/10\\n  examples: |\\n    - ¿Qué ocurre si se presenta más de una solicitud de preinscripción en el sistema universitario valenciano?\\n    - ¿Qué sucede si se presenta más de una solicitud de preinscripción en el sistema universitario valenciano?\\n    - ¿Qué sucede cuando se presenta más de una solicitud de inscripción previa en el sistema de enseñanza superior de Valencia?\\n    - ¿Qué sucede si más de una solicitud de preinscripción se presenta en el sistema universitario valenciano?\\n    - ¿Qué sucede si se presenta más de una solicitud de preinscripción en el sistema universitario valenciano?',\n",
       " '- intent: faq_inscripciones/11\\n  examples: |\\n    - ¿Hasta cuántas titulaciones se pueden solicitar en el procedimiento de preinscripción?\\n    - ¿Cuántos grados se pueden solicitar en el procedimiento de preinscripción?\\n    - ¿Cuántas cuentas pueden solicitarse en el procedimiento de preregistro?\\n    - ¿Cuántas cualificaciones pueden solicitarse en el marco del procedimiento de preinscripción?\\n    - ¿Cuántas cualificaciones se pueden solicitar en el procedimiento de preinscripción?',\n",
       " '- intent: faq_inscripciones/12\\n  examples: |\\n    - Además del trámite telemático, ¿hay que presentar algún documento en papel?\\n    - Además del procedimiento telemático, ¿tiene que presentar algún documento en papel?\\n    - Además del procedimiento telemático, ¿deben presentarse documentos en papel?\\n    - Además del procedimiento de información y telecomunicaciones, ¿deben presentarse documentos en papel?\\n    - Además del procedimiento telemática, ¿es necesario presentar un documento en papel?',\n",
       " '- intent: faq_inscripciones/13\\n  examples: |\\n    - ¿Qué documentación es necesario adjuntar telemáticamente cuando hace la preinscripción un/a estudiante de bachillerato?\\n    - ¿Qué documentación se requiere para ser adjuntada telemáticamente cuando un estudiante de secundaria es pre-inscripción?\\n    - ¿Qué documentación debe acompañarse telegráficamente en el preregistro de un estudiante de bachillerato?\\n    - ¿Qué documentación hay que adjuntar en el momento de la preinscripción de un estudiante de secundaria?\\n    - ¿Qué documentación es necesaria para la pre-inscripción de un estudiante de secundaria?',\n",
       " '- intent: faq_inscripciones/14\\n  examples: |\\n    - ¿Qué documentación es necesario adjuntar telemáticamente para pedir plaza mediante cualquiera de las otras vías de acceso?\\n    - ¿Qué documentación debe adjuntarse telemáticamente para solicitar un lugar a través de cualquiera de las otras rutas de acceso?\\n    - ¿Qué documentación debe ir acompañada de un telegrama para poder acceder a todas las demás vías de acceso?\\n    - ¿Qué documentación hay que adjuntar telemáticamente para encargar un lugar a través de una de las otras vías de acceso?\\n    - ¿Qué documentación es necesario adjuntar telemáticamente para ordenar asiento a través de cualquiera de las demás vías de acceso?',\n",
       " '- intent: faq_inscripciones/15\\n  examples: |\\n    - Una vez superada la prueba, ¿puedo matricularme directamente en la Universitat? \\r\\n\\n    - Una vez que haya pasado el examen, ¿puedo registrarme directamente en la Universidad?\\n    - Después de pasar la prueba, ¿puedo registrarme directamente en la universidad?\\n    - Una vez superada la prueba, ¿puedo inscribirme directamente en la universidad?\\n    - Una vez que haya pasado la prueba, ¿puedo registrarme directamente en la Universidad?',\n",
       " '- intent: faq_inscripciones/16\\n  examples: |\\n    - ¿Cómo deben hacer la preinscripción los/las estudiantes de un sistema educativo extranjero que estén pendientes de la acreditación de la UNEDassis?\\n    - ¿Cómo deben los estudiantes de un sistema educativo extranjero que están esperando la acreditación UNEdassis realizar la preinscripción?\\n    - ¿Cómo se preestablecerá a los estudiantes de un sistema educativo extranjero que estén interesados en la admisión de la UNEDASSIS?\\n    - ¿Cómo deben inscribirse los alumnos de un sistema educativo extranjero que están a la espera de la acreditación del UNIDASS?\\n    - ¿Cómo hacer la preinscripción de los estudiantes de un sistema educativo extranjero que están a la espera de la acreditación de la UNEDassis?',\n",
       " '- intent: faq_inscripciones/17\\n  examples: |\\n    - ¿Existe reserva de plazas para algunos colectivos?\\n    - ¿Hay una reserva de lugares para algunos colectivos?\\n    - ¿Hay una reserva de asientos para algunos grupos?\\n    - ¿Existe una reserva de plazas para algunos colectivos?\\n    - ¿Hay alguna reserva de asientos para algunos grupos?',\n",
       " '- intent: faq_inscripciones/18\\n  examples: |\\n    - ¿Cómo se accede a las dobles titulaciones?\\n    - ¿Cómo accedes a los dobles grados?\\n    - ¿Cómo acceder a los dobles títulos?\\n    - ¿Cómo se accede a los dobles diplomas?\\n    - ¿Cómo se accede a las dobles cualificaciones?',\n",
       " '- intent: faq_inscripciones/19\\n  examples: |\\n    - ¿Se pueden estudiar dos grados a la vez?\\n    - ¿Puedes estudiar dos grados a la vez?\\n    - ¿Se pueden estudiar dos grados a la vez?\\n    - ¿Podemos estudiar dos grados a la vez?\\n    - ¿Se pueden estudiar dos grados a la vez?',\n",
       " '- intent: faq_inscripciones/20\\n  examples: |\\n    - Mi nombre no corresponde a mi identidad de género, pero no he hecho el cambio registral. ¿Puedo preinscribirme con mi nombre de uso común?\\n    - Mi nombre no corresponde a mi identidad de género, pero no he hecho el cambio de registro. ¿Puedo preinscribirse con mi nombre común?\\n    - Mi nombre no coincide con mi identidad de género, pero no he cambiado el registro. ¿Puedo decirme con mi nombre habitual?\\n    - Mi nombre no coincide con mi identidad de género, pero no hice el cambio de registro. ¿Puedo preinscribirme con mi nombre de uso común?\\n    - Mi nombre no coincide con mi identidad de género, pero no he hecho el cambio registrado. ¿Puedo recetarme con mi nombre común?',\n",
       " '- intent: faq_inscripciones/21\\n  examples: |\\n    - ¿Cuándo se puede consultar el resultado de la preinscripción?\\n    - ¿Cuándo se puede consultar el resultado de la preinscripción?\\n    - ¿Cuándo se puede ver el resultado del preregistro?\\n    - ¿Cuándo se puede consultar el resultado de la preinscripción?\\n    - ¿Cuándo se puede consultar el resultado de la preinscripción?',\n",
       " '- intent: faq_inscripciones/22\\n  examples: |\\n    - ¿Cómo consultar el resultado de la preinscripción?\\n    - ¿Cómo consultar el resultado de la preinscripción?\\n    - ¿Qué te parece el resultado del preregistro?\\n    - ¿Cómo puedo ver el resultado de la preinscripción?\\n    - ¿Cómo consultar el resultado de la pre-inscripción?',\n",
       " '- intent: faq_inscripciones/23\\n  examples: |\\n    - ¿Qué ocurre si alguien no se matricula el día y la hora que tenía asignados?\\n    - ¿Qué pasa si alguien no registra el día y la hora que le asignaron?\\n    - ¿Qué pasa si alguien no registra el día y la hora que le asignaron?\\n    - ¿Qué pasa si alguien no se inscribe el día y la hora que había asignado?\\n    - ¿Y si alguien no se inscribiera el día y la hora que tenía?',\n",
       " '- intent: faq_inscripciones/24\\n  examples: |\\n    - ¿Qué importancia tiene el orden que se ponga en la relación de titulaciones de la preinscripción?\\n    - ¿Qué tan importante es el orden para ser colocado en la lista de grados de pre-inscripción?\\n    - ¿Cuál es el significado del orden de la inscripción en el directorio de preferencias?\\n    - ¿Cuál es la importancia del orden en la relación de cualificación de la preinscripción?\\n    - ¿Cuál es la importancia del orden que se incluye en la lista de diplomas de preinscripción?',\n",
       " '- intent: faq_inscripciones/25\\n  examples: |\\n    - ¿Qué ocurre si no se consigue plaza en la primera opción solicitada en la preinscripción?\\n    - ¿Qué sucede si no obtienes un lugar en la primera opción solicitada en el pre-registro?\\n    - ¿Qué sucede si no se alcanza el espacio en la primera opción requerida en el preregistro?\\n    - ¿Qué sucede si el lugar no se obtiene en la primera opción solicitada durante la preinscripción?\\n    - ¿Qué pasa si usted no tiene lugar en la primera opción requerida en la pre-inscripción?',\n",
       " '- intent: faq_inscripciones/26\\n  examples: |\\n    - ¿Qué es la lista de espera de las titulaciones?\\n    - ¿Cuál es la lista de espera para los grados?\\n    - ¿Cuál es la lista de espera de los títulos?\\n    - ¿Qué es la lista de espera de los diplomas?\\n    - ¿Qué es la lista de espera de graduación?',\n",
       " '- intent: faq_inscripciones/27\\n  examples: |\\n    - ¿Cómo funcionan las listas de espera en la Universidad de Valencia?\\n    - ¿Cómo funcionan las listas de espera en la Universidad de Valencia?\\n    - ¿Cómo funcionan las listas de espera en la Universidad de Valencia?\\n    - ¿Cómo funcionan las listas de espera en la Universidad de Valencia?\\n    - ¿Cómo funcionan las listas de espera en la Universidad de Valencia?',\n",
       " '- intent: faq_inscripciones/28\\n  examples: |\\n    - ¿Dónde se pueden consultar las fechas de los tres llamamientos de lista de espera de la Universidad de Valencia?\\n    - ¿Dónde puedes consultar las fechas de las tres apelaciones de lista de espera de la Universidad de Valencia?\\n    - ¿Dónde se encuentran los datos de las tres llamadas de lista de espera de la Universidad de Valencia?\\n    - ¿Dónde se pueden consultar las fechas de las tres llamadas de lista de espera de la Universidad de Valencia?\\n    - ¿Dónde se pueden consultar las fechas de los tres llamamientos de lista de espera de la Universidad de Valencia?',\n",
       " '- intent: faq_inscripciones/29\\n  examples: |\\n    - Si en la preinscripción se han solicitado 6 titulaciones y se obtiene plaza en la ubicada en cuarto lugar según el orden de preferencia establecido por el estudiante, ¿se podría renunciar a esta plaza y solicitar estar en lista de espera de la ubicada en quinta posición?\\n    - Si en la preinscripción se han solicitado 6 grados y obtienes un lugar en el cuarto lugar de acuerdo con el orden de preferencia establecido por el estudiante, ¿podrías renunciar a este lugar y solicitar estar en la lista de espera del que se encuentra en la quinta posición?\\n    - Si en el pre-registro se han solicitado 6 títulos y se obtiene espacio en el cuarto lugar según el orden fijado por el estudiante, entonces se podría renunciar a este lugar y solicitar estar en la lista de espera del quinto lugar?\\n    - Si, en el momento de la preinscripción, se han solicitado seis diplomas y se obtiene un lugar en el cuarto lugar según el orden de preferencia establecido por el estudiante, ¿podrían renunciar a este lugar y pedir estar en la lista de espera de la quinta posición?\\n    - Si en la pre-inscripción se han solicitado 6 diplomas y se obtiene en la posición en el cuarto lugar según el orden de preferencia establecido por el estudiante, ¿se podría renunciar a este lugar y pedir estar en la lista de espera para la posición en quinta posición?',\n",
       " '- intent: faq_inscripciones/30\\n  examples: |\\n    - Si se consigue plaza en la Universidad de Valencia y se realiza la matrícula, ¿se pierde la posibilidad de acceder a las plazas en las que se esté en lista de espera (en titulaciones de la misma o diferente universidad de la Comunidad Valenciana u otras comunidades)?\\n    - Si obtienes una plaza en la Universidad de Valencia y te registras, ¿te pierdes la posibilidad de acceder a los lugares en los que estás esperando (en títulos de la misma u otra universidad de la Comunidad Valenciana u otras comunidades)?\\n    - Si se obtiene un puesto en la Universidad de Valencia y se lleva a cabo un estudio, ¿se pierde la posibilidad de entrar en la lista de espera (en la Universidad de Valencia o en otras universidades de la Comunidad Valenciana o en otras comunidades)?\\n    - Si se obtiene un lugar en la Universidad de Valencia y se efectúa la inscripción, ¿se pierde la posibilidad de acceder a los lugares en los que se encuentra en lista de espera (graduado de la Universidad de Valencia o de otras comunidades)?\\n    - Si se obtiene asiento en la Universidad de Valencia y se realiza la inscripción, ¿se pierde la posibilidad de acceder a los lugares donde se está en la lista de espera (en los títulos de la misma o diferente universidad de la Comunidad Valenciana o de otras comunidades)?',\n",
       " '- intent: faq_inscripciones/31\\n  examples: |\\n    - ¿Qué son las notas de corte?\\n    - ¿Qué son las notas de corte?\\n    - ¿Cuáles son las notas de corte?\\n    - ¿Qué son las notas de corte?\\n    - ¿Qué son las notas de corte?',\n",
       " '- intent: faq_inscripciones/32\\n  examples: |\\n    - ¿Por qué en la Universidad de Valencia tenemos cuatro listas de notas de cortes distintas?\\n    - ¿Por qué en la Universidad de Valencia tenemos cuatro listas de notas de diferentes cortes?\\n    - ¿Por qué tenemos cuatro listas de cortes diferentes en la Universidad Valencia?\\n    - ¿Por qué en la Universidad de Valencia tenemos cuatro listas de notas de corte diferentes?\\n    - ¿Por qué tenemos cuatro listas de recortes diferentes en la Universidad de Valencia?',\n",
       " '- intent: faq_inscripciones/33\\n  examples: |\\n    - ¿Se puede acceder a titulaciones de grado con otra titulación universitaria?\\n    - ¿Es posible acceder a títulos de grado con otro título universitario?\\n    - ¿Es posible acceder a un título de enseñanza superior con otro título?\\n    - ¿Es posible acceder a diplomas de nivel superior con otro diploma universitario?\\n    - ¿Es posible acceder a títulos universitarios con otro título universitario?',\n",
       " '- intent: faq_inscripciones/34\\n  examples: |\\n    - ¿Con un título universitario extranjero se puede acceder a un grado oficial de cualquier universidad española por la cuota reserva a titulados universitarios?\\n    - ¿Con un título universitario extranjero puedes acceder a un título oficial de cualquier universidad española por la cuota reservada a los graduados universitarios?\\n    - ¿Se puede reservar con un título universitario extranjero un grado oficial en cada universidad española a través de la cuota de licenciados?\\n    - ¿Permite un diploma universitario extranjero acceder a un diploma oficial de cualquier universidad española en virtud de la cotización reservada a los graduados universitarios?\\n    - ¿Con un título universitario extranjero se puede acceder a un grado oficial de cualquier universidad española para la cuota reservada a los graduados?']"
      ]
     },
     "execution_count": 13,
     "metadata": {},
     "output_type": "execute_result"
    }
   ],
   "source": [
    "nlu"
   ]
  },
  {
   "cell_type": "code",
   "execution_count": 14,
   "id": "dd1544f4-005b-4004-9c9a-d2830c525557",
   "metadata": {},
   "outputs": [
    {
     "data": {
      "text/plain": [
       "['  utter_faq_inscripciones/0:\\n  - text: \"Es el procedimiento de admisión que sirve para ordenar, según la nota de admisión, a estudiantes que piden plaza en un grado. Es imprescindible realizar la preinscripción para poder obtener plaza en una universidad pública.\"',\n",
       " '  utter_faq_inscripciones/1:\\n  - text: \"El distrito universitario valenciano está formado por la oferta de plazas de las titulaciones de grado de las cinco universidades públicas valencianas: Universitat de València, Universitat Politècnica de València, Universitat Jaume I de Castelló, Universitat d’Alacant y Universitat Miguel Hernández de Elche.\"',\n",
       " '  utter_faq_inscripciones/2:\\n  - text: \"Los estudiantes admitidos recibirán, en la dirección de correo electrónico que hayan indicado en la solicitud de preinscripción, un mensaje que incluirá el periodo de matrícula del estudiante e instrucciones.\"',\n",
       " '  utter_faq_inscripciones/3:\\n  - text: \"Con independencia de la comunidad autónoma donde se hayan realizado las pruebas de acceso a la universidad (PAU, EBAU, EVAU) se puede solicitar plaza en cualquier titulación de cualquier universidad pública española. La totalidad de la oferta de plazas de las universidades públicas del conjunto del Estado, forman lo que se denomina distrito universitario abierto.\"',\n",
       " '  utter_faq_inscripciones/4:\\n  - text: \"Para realizar la preinscripción en los estudios de grado de las universidades públicas valencianas, es necesario tener alguna de estas circunstancias académicas (requisitos o vías de acceso):\"',\n",
       " '  utter_faq_inscripciones/5:\\n  - text: \"Para regular el acceso a la universidad cada curso académico, para todas las vías de acceso mencionadas, existe una convocatoria única de preinscripción al año.\"',\n",
       " '  utter_faq_inscripciones/6:\\n  - text: \"El plazo para realizar la preinscripción siempre comienza en una fecha posterior a la resolución de las PAU, normalmente al comienzo de la segunda quincena de junio.\"',\n",
       " '  utter_faq_inscripciones/7:\\n  - text: \"La preinscripción en la Comunitat Valenciana se realiza telemáticamente, mediante el asistente telemático de la página de\\xa0 la Conselleria con competencias en Universidades. A la aplicación de preinscripción se accede desde: https://appweb.edu.gva.es/preinscripcion/\"',\n",
       " '  utter_faq_inscripciones/8:\\n  - text: \"Los candidatos con las PAU aprobadas en cursos anteriores (en convocatorias ordinarias o extraordinarias) y los que las aprueben en la convocatoria ordinaria del año en curso, tienen preferencia sobre aquellas personas que aprueban las PAU en la convocatoria extraordinaria.\"',\n",
       " '  utter_faq_inscripciones/9:\\n  - text: \"En el mismo plazo que los de la convocatoria de junio, aunque carezcan de las calificaciones. Si se han realizado las PAU en una de las universidades valencianas, el programa informático incorpora las calificaciones antes del proceso de baremación y de adjudicación de plazas. Si se han realizado en una universidad de fuera del distrito valenciano, deberá aportarse documentación con las calificaciones\"',\n",
       " '  utter_faq_inscripciones/10:\\n  - text: \"En caso de presentar más de una solicitud de preinscripción, sólo será válida la última presentada.\"',\n",
       " '  utter_faq_inscripciones/11:\\n  - text: \"El asistente telemático desde el que se realiza la preinscripción permite solicitar, por orden de preferencia, hasta un máximo de 20 titulaciones de grados.\"',\n",
       " '  utter_faq_inscripciones/12:\\n  - text: \"La preinscripción es totalmente telemática desde 2019. No es necesario presentar ninguna validación en papel.\"',\n",
       " '  utter_faq_inscripciones/13:\\n  - text: \"Si se han realizado las PAU en la Comunitat Valenciana en las convocatorias 2012 y posteriores y/o se tiene la exención de las PAU de 2017 (con la acreditación de exención porque se solicitó durante el curso 2016-2017), no es necesario subir ninguna documentación a menos que sea necesario acreditar:\"',\n",
       " '  utter_faq_inscripciones/14:\\n  - text: \"En general, deberá subirse la documentación que acredite el cumplimiento del requisito de acceso: certificado de notas más título, acreditación UNEDassis, la acreditación UNEDassis más PCE, certificación de superación de pruebas para mayores 25, 40 o 45 años, etc.\"',\n",
       " '  utter_faq_inscripciones/15:\\n  - text: \"No. Tendrás que realizar la preinscripción (solicitud de plaza) en el plazo que se establezca para ello.\\xa0\"',\n",
       " '  utter_faq_inscripciones/16:\\n  - text: \"Con una nota provisional, porque la única forma de acceder a las universidades públicas es mediante la preinscripción.\"',\n",
       " '  utter_faq_inscripciones/17:\\n  - text: \"Sí. Se reservan para deportistas de alto nivel, de élite A y B y de alto rendimiento (10% para el grado en Ciencias de la Actividad Física y del Deporte, 5% para los grados en Fisioterapia y de Maestro/a en Educación Primaria y 3% para el resto de grados); estudiantes con discapacidad igual o superior al 33% (5%); titulaciones universitarias (3%); mayores de 25 años con las pruebas de acceso específicas superadas (3%); mayores de 40 años con la acreditación profesional (1%, salvo Medicina y Odontología, que no reservan plazas para esta cuota); y mayores de 45 años con las pruebas de acceso específicas superadas (1%).\"',\n",
       " '  utter_faq_inscripciones/18:\\n  - text: \"Las dobles titulaciones se solicitan como cualquier otro grado, durante la preinscripción, pudiendo ponderar cualquier asignatura que pondere en alguno de los dos grados. Se aplicará la ponderación más alta.\"',\n",
       " '  utter_faq_inscripciones/19:\\n  - text: \"Sí. Una opción es mediante las dobles titulaciones que ofrece la Universidad. Otra es conseguir plaza por preinscripción en un grado, matricularse, y posteriormente, en la preinscripción del curso siguiente, solicitar plaza en la segunda titulación que interese, ya que por preinscripción sólo se puede obtener una plaza en cada curso académico.\"',\n",
       " '  utter_faq_inscripciones/20:\\n  - text: \"Sobre el procedimiento de cambio de nombre, encontrarás más información en\\xa0www.uv.es/diversitats\"',\n",
       " '  utter_faq_inscripciones/21:\\n  - text: \"La Conselleria de Innovación, Universidades, Ciencia y Sociedad es quien resuelve la preinscripción y quien fija los plazos del procedimiento. Normalmente, el resultado de la preinscripción suele hacerse público en torno a las 14 horas del día de la fecha fijada (aproximadamente hacia mediados de julio).\"',\n",
       " '  utter_faq_inscripciones/22:\\n  - text: \"La Conselleria de Innovación, Universidades, Ciencia y Sociedad digital envía un SMS para comunicar qué plaza se ha obtenido o que no se ha obtenido ninguna.\"',\n",
       " '  utter_faq_inscripciones/23:\\n  - text: \"Se perderá la posibilidad de elegir grupo. Se entiende que se renuncia a la plaza si, al finalizar el plazo de matrícula, el interesado no se ha matriculado.\"',\n",
       " '  utter_faq_inscripciones/24:\\n  - text: \"Es crucial. Se deben ordenar las titulaciones según las preferencias; es decir, en primer lugar la que más interese seguida del resto. Cuando se adjudica plaza en una titulación, ya no se tiene opción en el resto de titulaciones situadas por debajo del grado adjudicado. Por el contrario, en las titulaciones que están por encima del grado adjudicado, se estará en lista de espera.\"',\n",
       " '  utter_faq_inscripciones/25:\\n  - text: \"Si se ha obtenido una plaza que no era la solicitada en primer lugar, podrá permanecer en lista de espera en aquellas titulaciones con un número de orden superior en la preinscripción al de la titulación en la que se ha obtenido plaza.\"',\n",
       " '  utter_faq_inscripciones/26:\\n  - text: \"Cuando un grado tiene todas las plazas cubiertas, se genera una lista de espera. En la Universidad de Valencia, un/a estudiante estará en tantas listas de espera como titulaciones haya solicitado en la preinscripción por delante del grado donde ha sido admitido/a. El orden en la lista se corresponde con la nota de admisión que tiene el estudiante para esa titulación. Si se producen vacantes en la matrícula, los centros se ofrecen a los estudiantes que están en la lista de espera.\"',\n",
       " '  utter_faq_inscripciones/27:\\n  - text: \"Hay que prestar atención a la forma en que se gestionan las listas de espera en cada universidad, porque el funcionamiento no es el mismo.\"',\n",
       " '  utter_faq_inscripciones/28:\\n  - text: \"La información está accesible en la web de la Universidad, que explica el funcionamiento de las listas de espera.\"',\n",
       " '  utter_faq_inscripciones/29:\\n  - text: \"No, si se logra plaza en la cuarta titulación podrá estar en lista de espera de las tres titulaciones que el estudiante puso por delante en la ordenación de la solicitud de preinscripción, pero nunca en las que haya puesto por detrás; es decir, no podría estar en las listas de espera de la quinta ni de la sexta.\"',\n",
       " '  utter_faq_inscripciones/30:\\n  - text: \"No. Si no se quiere perder la plaza adjudicada, es necesario matricularse. Si después de haber hecho esta matrícula se consigue plaza en cualquier otra titulación de la misma universidad o una diferente, la matrícula inicial queda anulada automáticamente si ambas titulaciones son de la UV. Si la nueva titulación pertenece a otra universidad, deberá anular la matrícula realizada y posteriormente se podrá matricular en la plaza conseguida por lista de espera.\"',\n",
       " '  utter_faq_inscripciones/31:\\n  - text: \"La nota de corte de una titulación es la nota del último estudiante admitido en esa titulación. La preinscripción realiza la ordenación de las solicitudes en una titulación ordenando de mayor a menor las notas de admisión. Puesto que, además, adjudica la totalidad de las plazas que se ofrecen de cada titulación, la nota de corte será la nota de admisión del estudiante al que se le adjudica la última plaza en el procedimiento de preinscripción.\"',\n",
       " '  utter_faq_inscripciones/32:\\n  - text: \"En la Universidad de Valencia, en cada uno de los 3 llamamientos de lista de espera se realiza una nueva ordenación de notas. Así pues, la resolución de la preinscripción más cada uno de los tres llamamientos, da lugar a una nueva lista de notas de corte.\"',\n",
       " '  utter_faq_inscripciones/33:\\n  - text: \"Las personas con titulación universitaria, grado o máster oficial, podrán realizar la preinscripción a cualquier grado impartido por la Universitat de València. Existe una cuota reservada para personas con titulaciones universitarias. Su nota de acceso será la nota media de su título.\"',\n",
       " '  utter_faq_inscripciones/34:\\n  - text: \"Si, siempre que se obtenga la homologación o equivalencia del título universitario otorgada por el Ministerio de Universidades español. Desde este ministerio también debe tramitarse el certificado con la equivalencia de calificaciones medias de estudios universitarios realizados en el extranjero. Ambos procedimientos se pueden realizar online desde la web del\\xa0Ministerio de Universidades español.\"']"
      ]
     },
     "execution_count": 14,
     "metadata": {},
     "output_type": "execute_result"
    }
   ],
   "source": [
    "responses"
   ]
  },
  {
   "cell_type": "code",
   "execution_count": 15,
   "id": "01ebb5d5-543b-4776-a113-ab1e39fb2232",
   "metadata": {},
   "outputs": [],
   "source": [
    "with open(r\"..\\data\\internal\\nlu_faq_inscripciones.txt\", \"w\", encoding=\"utf-8\") as f:\n",
    "    f.write(\"\\n\".join(nlu))\n",
    "with open(\n",
    "    r\"..\\data\\internal\\responses_faq_inscripciones.txt\", \"w\", encoding=\"utf-8\"\n",
    ") as f:\n",
    "    f.write(\"\\n\".join(responses))"
   ]
  },
  {
   "cell_type": "code",
   "execution_count": null,
   "id": "bc3184d6-fcfc-4391-b822-949bde60f6a3",
   "metadata": {},
   "outputs": [],
   "source": []
  }
 ],
 "metadata": {
  "kernelspec": {
   "display_name": "Python (rasa-chatbot)",
   "language": "python",
   "name": "rasa-chatbot"
  },
  "language_info": {
   "codemirror_mode": {
    "name": "ipython",
    "version": 3
   },
   "file_extension": ".py",
   "mimetype": "text/x-python",
   "name": "python",
   "nbconvert_exporter": "python",
   "pygments_lexer": "ipython3",
   "version": "3.8.12"
  }
 },
 "nbformat": 4,
 "nbformat_minor": 5
}
