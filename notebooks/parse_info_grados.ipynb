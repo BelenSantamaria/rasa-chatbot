{
 "cells": [
  {
   "cell_type": "markdown",
   "id": "cc502421-2928-4b39-a929-5a97ca16b74d",
   "metadata": {},
   "source": [
    "# Extracción de nombre y url de cada grado"
   ]
  },
  {
   "cell_type": "code",
   "execution_count": 1,
   "id": "8d9f41f3-4b64-4411-897f-aa45b522c4c6",
   "metadata": {},
   "outputs": [],
   "source": [
    "from bs4 import BeautifulSoup\n",
    "import requests\n",
    "import pandas as pd\n",
    "import json"
   ]
  },
  {
   "cell_type": "markdown",
   "id": "48a49054-b685-4129-99fb-bdb5aa02be18",
   "metadata": {},
   "source": [
    "En primer luegar enviamos una petición a la página web de la universidad de la Universidad de Valencia que contiene la oferta de grados."
   ]
  },
  {
   "cell_type": "code",
   "execution_count": 2,
   "id": "ee131a12-e76a-4cba-b7c0-db5d3b2fa1ff",
   "metadata": {},
   "outputs": [],
   "source": [
    "url = \"https://www.uv.es/uvweb/universidad/es/estudios-grado/oferta-grados/oferta-grados-1285846094474.html\"\n",
    "r = requests.get(url)"
   ]
  },
  {
   "cell_type": "markdown",
   "id": "57e38534-eec0-4404-bd06-16e39162ec03",
   "metadata": {},
   "source": [
    "Ahora extraemos del contenido la información referente a cada grado"
   ]
  },
  {
   "cell_type": "code",
   "execution_count": 3,
   "id": "b2b10510-fea2-4ee9-93b3-499ead817e6a",
   "metadata": {},
   "outputs": [],
   "source": [
    "soup = BeautifulSoup(r.text, \"html.parser\")"
   ]
  },
  {
   "cell_type": "code",
   "execution_count": 4,
   "id": "fb5cc425-9154-4aed-be24-facb8645032d",
   "metadata": {},
   "outputs": [],
   "source": [
    "s = soup.find(\"div\", {\"class\": \"titulacioGraus\"})\n",
    "lines = s.find_all(\"div\", {\"class\": \"titulacio\"})"
   ]
  },
  {
   "cell_type": "code",
   "execution_count": 5,
   "id": "33fa4a37-2716-4cad-8abe-b22e052f7917",
   "metadata": {},
   "outputs": [
    {
     "data": {
      "text/plain": [
       "<div class=\"titulacio\">\n",
       "<div class=\"nomTitulacio info-expander\" data-id=\"0-0\" id=\"nomTitulacio0-0\">\n",
       "<div class=\"nomGrau\">Grado en Ciencia de Datos</div>\n",
       "<div class=\"iconTitulacio\">\n",
       "<i aria-hidden=\"true\" class=\"fa fa-plus\"></i>\n",
       "</div>\n",
       "</div><div class=\"infoTitulacio\" id=\"infoTitulacio0-0\" style=\"display: none;\">\n",
       "<ul class=\"titulacio-items\"><li><i aria-hidden=\"true\" class=\"fa fa-file-o\"></i><a href=\"https://www.uv.es/uvweb/universidad/es/estudios-grado/oferta-grados/oferta-grados/grado-ciencia-datos-1285846094474/Titulacio.html?id=1286036417905\" title=\"Ficha del Grado Grado en Ciencia de Datos\">Ficha del Grado</a> </li>\n",
       "<li><i aria-hidden=\"true\" class=\"fa fa-globe\"></i><a href=\"https://www.uv.es/grado-ciencia-datos/es/grado-ciencia-datos.html\" title=\"Web específica Grado en Ciencia de Datos\">Web específica</a></li>\n",
       "</ul>\n",
       "</div></div>"
      ]
     },
     "execution_count": 5,
     "metadata": {},
     "output_type": "execute_result"
    }
   ],
   "source": [
    "lines[0]"
   ]
  },
  {
   "cell_type": "markdown",
   "id": "f5bdbe83-cdcf-4a75-a846-ee1ad59846d1",
   "metadata": {},
   "source": [
    "La celda anterior muestra toda la información disponible para cada grado.\n",
    "\n",
    "A continuación, guardamos en el archivo '..\\data\\info_grados.json' el nombre de la titulación y la url de la web específica."
   ]
  },
  {
   "cell_type": "code",
   "execution_count": 6,
   "id": "e799a92c-4e5c-4dc4-aa09-7330664eb303",
   "metadata": {},
   "outputs": [],
   "source": [
    "grados = []\n",
    "\n",
    "for line in lines:\n",
    "    d = {\n",
    "    \"nombre_grado\": line.find(\"div\", {\"class\": \"nomGrau\"}).text,\n",
    "    \"url_grado\": line.find(\"a\").get(\"href\"),\n",
    "    }\n",
    "    grados.append(d)"
   ]
  },
  {
   "cell_type": "code",
   "execution_count": 7,
   "id": "6589fe11-fdcf-410f-b58d-db90261ca39c",
   "metadata": {},
   "outputs": [
    {
     "data": {
      "text/plain": [
       "[{'nombre_grado': 'Grado en Ciencia de Datos',\n",
       "  'url_grado': 'https://www.uv.es/uvweb/universidad/es/estudios-grado/oferta-grados/oferta-grados/grado-ciencia-datos-1285846094474/Titulacio.html?id=1286036417905'},\n",
       " {'nombre_grado': 'Grado en Ingeniería Electrónica de Telecomunicación',\n",
       "  'url_grado': 'https://www.uv.es/uvweb/universidad/es/estudios-grado/oferta-grados/oferta-grados/grado-ingenieria-electronica-telecomunicacion-1285846094474/Titulacio.html?id=1285847366749'}]"
      ]
     },
     "execution_count": 7,
     "metadata": {},
     "output_type": "execute_result"
    }
   ],
   "source": [
    "grados[:2]"
   ]
  },
  {
   "cell_type": "code",
   "execution_count": 8,
   "id": "eac27ec2-03ec-4088-81c8-ad98dcc676f1",
   "metadata": {},
   "outputs": [],
   "source": [
    "with open(r\"..\\data\\info_grados.json\", \"w\", encoding=\"utf-8\") as f:\n",
    "    json.dump(grados, f)"
   ]
  },
  {
   "cell_type": "markdown",
   "id": "f0f3919d-b6ca-4b08-b6b9-68a4c6809b7d",
   "metadata": {},
   "source": [
    "Por último, leemos el archivo creado para mostrar la información que contiene."
   ]
  },
  {
   "cell_type": "code",
   "execution_count": 9,
   "id": "5328b5ce-6adc-437c-a275-a7699aca524c",
   "metadata": {},
   "outputs": [
    {
     "data": {
      "text/html": [
       "<div>\n",
       "<style scoped>\n",
       "    .dataframe tbody tr th:only-of-type {\n",
       "        vertical-align: middle;\n",
       "    }\n",
       "\n",
       "    .dataframe tbody tr th {\n",
       "        vertical-align: top;\n",
       "    }\n",
       "\n",
       "    .dataframe thead th {\n",
       "        text-align: right;\n",
       "    }\n",
       "</style>\n",
       "<table border=\"1\" class=\"dataframe\">\n",
       "  <thead>\n",
       "    <tr style=\"text-align: right;\">\n",
       "      <th></th>\n",
       "      <th>nombre_grado</th>\n",
       "      <th>url_grado</th>\n",
       "    </tr>\n",
       "  </thead>\n",
       "  <tbody>\n",
       "    <tr>\n",
       "      <th>0</th>\n",
       "      <td>Grado en Ciencia de Datos</td>\n",
       "      <td>https://www.uv.es/uvweb/universidad/es/estudio...</td>\n",
       "    </tr>\n",
       "    <tr>\n",
       "      <th>1</th>\n",
       "      <td>Grado en Ingeniería Electrónica de Telecomunic...</td>\n",
       "      <td>https://www.uv.es/uvweb/universidad/es/estudio...</td>\n",
       "    </tr>\n",
       "    <tr>\n",
       "      <th>2</th>\n",
       "      <td>Grado en Ingeniería Electrónica Industrial</td>\n",
       "      <td>https://www.uv.es/uvweb/universidad/es/estudio...</td>\n",
       "    </tr>\n",
       "    <tr>\n",
       "      <th>3</th>\n",
       "      <td>Grado en Ingeniería Informática</td>\n",
       "      <td>https://www.uv.es/uvweb/universidad/es/estudio...</td>\n",
       "    </tr>\n",
       "    <tr>\n",
       "      <th>4</th>\n",
       "      <td>Grado en Ingeniería Multimedia</td>\n",
       "      <td>https://www.uv.es/uvweb/universidad/es/estudio...</td>\n",
       "    </tr>\n",
       "    <tr>\n",
       "      <th>...</th>\n",
       "      <td>...</td>\n",
       "      <td>...</td>\n",
       "    </tr>\n",
       "    <tr>\n",
       "      <th>68</th>\n",
       "      <td>Dobles Titulaciones Internacionales en el Grad...</td>\n",
       "      <td>//www.uv.es/uvweb/economia/es/estudios-grado/o...</td>\n",
       "    </tr>\n",
       "    <tr>\n",
       "      <th>69</th>\n",
       "      <td>Dobles Titulaciones Internacionales en el Grad...</td>\n",
       "      <td>https://www.uv.es/uvweb/derecho/es/estudis-gra...</td>\n",
       "    </tr>\n",
       "    <tr>\n",
       "      <th>70</th>\n",
       "      <td>Dobles Titulaciones Internacionales en el Grad...</td>\n",
       "      <td>//www.uv.es/uvweb/dret/es/movilidad-intercambi...</td>\n",
       "    </tr>\n",
       "    <tr>\n",
       "      <th>71</th>\n",
       "      <td>Dobles Titulaciones Internacionales en el Grad...</td>\n",
       "      <td>//www.uv.es/uvweb/economia/es/estudis-grau/gra...</td>\n",
       "    </tr>\n",
       "    <tr>\n",
       "      <th>72</th>\n",
       "      <td>Dobles Titulaciones Internacionales Química UV...</td>\n",
       "      <td>//www.uv.es/uvweb/quimica/es/grados/oferta-gra...</td>\n",
       "    </tr>\n",
       "  </tbody>\n",
       "</table>\n",
       "<p>73 rows × 2 columns</p>\n",
       "</div>"
      ],
      "text/plain": [
       "                                         nombre_grado  \\\n",
       "0                           Grado en Ciencia de Datos   \n",
       "1   Grado en Ingeniería Electrónica de Telecomunic...   \n",
       "2          Grado en Ingeniería Electrónica Industrial   \n",
       "3                     Grado en Ingeniería Informática   \n",
       "4                      Grado en Ingeniería Multimedia   \n",
       "..                                                ...   \n",
       "68  Dobles Titulaciones Internacionales en el Grad...   \n",
       "69  Dobles Titulaciones Internacionales en el Grad...   \n",
       "70  Dobles Titulaciones Internacionales en el Grad...   \n",
       "71  Dobles Titulaciones Internacionales en el Grad...   \n",
       "72  Dobles Titulaciones Internacionales Química UV...   \n",
       "\n",
       "                                            url_grado  \n",
       "0   https://www.uv.es/uvweb/universidad/es/estudio...  \n",
       "1   https://www.uv.es/uvweb/universidad/es/estudio...  \n",
       "2   https://www.uv.es/uvweb/universidad/es/estudio...  \n",
       "3   https://www.uv.es/uvweb/universidad/es/estudio...  \n",
       "4   https://www.uv.es/uvweb/universidad/es/estudio...  \n",
       "..                                                ...  \n",
       "68  //www.uv.es/uvweb/economia/es/estudios-grado/o...  \n",
       "69  https://www.uv.es/uvweb/derecho/es/estudis-gra...  \n",
       "70  //www.uv.es/uvweb/dret/es/movilidad-intercambi...  \n",
       "71  //www.uv.es/uvweb/economia/es/estudis-grau/gra...  \n",
       "72  //www.uv.es/uvweb/quimica/es/grados/oferta-gra...  \n",
       "\n",
       "[73 rows x 2 columns]"
      ]
     },
     "execution_count": 9,
     "metadata": {},
     "output_type": "execute_result"
    }
   ],
   "source": [
    "with open(r\"..\\data\\info_grados.json\", \"r\") as f:\n",
    "    df = pd.read_json(f)\n",
    "df"
   ]
  },
  {
   "cell_type": "code",
   "execution_count": null,
   "id": "dc4b7c89-224d-4cba-aeb6-78a98915f663",
   "metadata": {},
   "outputs": [],
   "source": []
  },
  {
   "cell_type": "code",
   "execution_count": null,
   "id": "1be1842a-b30b-44ee-af67-440160105a76",
   "metadata": {},
   "outputs": [],
   "source": []
  }
 ],
 "metadata": {
  "kernelspec": {
   "display_name": "Python (rasa-chatbot)",
   "language": "python",
   "name": "rasa-chatbot"
  },
  "language_info": {
   "codemirror_mode": {
    "name": "ipython",
    "version": 3
   },
   "file_extension": ".py",
   "mimetype": "text/x-python",
   "name": "python",
   "nbconvert_exporter": "python",
   "pygments_lexer": "ipython3",
   "version": "3.8.12"
  }
 },
 "nbformat": 4,
 "nbformat_minor": 5
}
