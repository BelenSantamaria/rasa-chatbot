{
 "cells": [
  {
   "cell_type": "markdown",
   "id": "98478a68-7e34-4308-800c-bc8dec0d7d55",
   "metadata": {},
   "source": [
    "# Extracción de preguntas frecuentes y respuestas sobre matrícula"
   ]
  },
  {
   "cell_type": "code",
   "execution_count": 1,
   "id": "95c4abd8-26a2-4a11-8d8c-e88a76efb19e",
   "metadata": {},
   "outputs": [],
   "source": [
    "from bs4 import BeautifulSoup\n",
    "import requests\n",
    "import nlpaug.augmenter.word as naw"
   ]
  },
  {
   "cell_type": "code",
   "execution_count": 2,
   "id": "726983fa-db7e-4c71-b282-d08b5ae888ee",
   "metadata": {},
   "outputs": [],
   "source": [
    "url = \"https://www.uv.es/uvweb/universidad/es/estudios-grado/matricula/matricula/consideraciones-generales/preguntas-frecuentes-1286132590309.html\"\n",
    "r = requests.get(url)"
   ]
  },
  {
   "cell_type": "code",
   "execution_count": 3,
   "id": "9023c4b2-e7f6-41b9-bc60-ad0c43bfa109",
   "metadata": {},
   "outputs": [],
   "source": [
    "soup = BeautifulSoup(r.text, \"html.parser\")"
   ]
  },
  {
   "cell_type": "code",
   "execution_count": 4,
   "id": "490a54df-9aeb-4df1-b5ff-200ca836ba27",
   "metadata": {},
   "outputs": [],
   "source": [
    "s = soup.find(\"ul\", {\"class\": \"bloque-preguntas bp1286132590573\"})\n",
    "lines = s.find_all(\"li\", {\"class\": \"pregunta\"})"
   ]
  },
  {
   "cell_type": "code",
   "execution_count": 5,
   "id": "ff16bbb1-74fe-43b1-aa79-6fc9afec0847",
   "metadata": {},
   "outputs": [
    {
     "data": {
      "text/plain": [
       "<li class=\"pregunta\" id=\"12861326799141286132590573\">\n",
       "<a href=\"javascript:desplegar('12861326799141286132590573')\" style=\"text-decoration:none\">\n",
       "<h4>Si no consigo plaza en mi primera opción para la Universidad, ¿tengo que matricularme igual?</h4></a>\n",
       "<span class=\"fa fa-chevron-down lnktitleFaq12861326799141286132590573\"></span>\n",
       "<div class=\"bloque-contenido\">\n",
       "<div class=\"respuesta respuesta-lista\"><p style=\"text-align: justify;\">Todos los estudiantes admitidos para cursar estudios en la UV, independientemente del orden de preferencia de la preinscripción, deberán matricularse en el plazo estipulado si no quieren perder la plaza obtenida.</p>\n",
       "</div>\n",
       "</div>\n",
       "</li>"
      ]
     },
     "execution_count": 5,
     "metadata": {},
     "output_type": "execute_result"
    }
   ],
   "source": [
    "lines[0]"
   ]
  },
  {
   "cell_type": "code",
   "execution_count": 6,
   "id": "5da2a118-638b-4854-9532-868fcee5cb18",
   "metadata": {},
   "outputs": [],
   "source": [
    "faq_matricula = {}\n",
    "\n",
    "for line in lines:\n",
    "    pregunta = line.find(\"h4\").text\n",
    "    respuesta = line.find(\"p\").text\n",
    "    faq_matricula[pregunta] = respuesta"
   ]
  },
  {
   "cell_type": "code",
   "execution_count": 7,
   "id": "971d1612-ce5c-4371-87f7-054a63c98677",
   "metadata": {},
   "outputs": [
    {
     "data": {
      "text/plain": [
       "{'Si no consigo plaza en mi primera opción para la Universidad, ¿tengo que matricularme igual?': 'Todos los estudiantes admitidos para cursar estudios en la UV, independientemente del orden de preferencia de la preinscripción, deberán matricularse en el plazo estipulado si no quieren perder la plaza obtenida.',\n",
       " '¿Qué pasa si me matriculo en la plaza obtenida, y posteriormente por lista de espera, me adjudican la titulación que yo quiero?': 'Todos los estudiantes a los que se les ha asignado una plaza, y no era la primera solicitada, deberán matricularse en la titulación obtenida para no perder la plaza adjudicada. Si continúan en lista de espera y en algún llamamiento se les adjudica una plaza diferente a la obtenida, deben dirigirse al Centro en el que se han matriculado para anular la matrícula y dirigirse al Centro al que está adscrita la nueva titulación para realizar una nueva matrícula. Más información: http://links.uv.es/2FZ8evO.',\n",
       " '¿Qué vale una matrícula en la Universidad?': 'El coste de la matrícula para estudios oficiales (grados, másteres y doctorados) está limitado por precios públicos . El importe anual de las tasas académicas se establece por la Generalitat Valenciana (Decreto tasas) de acuerdo con los límites de incremento máximos y mínimos que determina el Ministerio de Educación. Más información: http://links.uv.es/6MnTHbo.',\n",
       " '¿Cómo puedo pagar la matrícula en la Universitat?': 'La forma de pago ordinario en la Universitat de València es la domiciliación bancaria en cualquier entidad financiera y el pago fraccionado en dos o en ocho plazos. También, se puede optar por pago único. Los estudiantes de nuevo ingreso abonan el primer plazo de matrícula o las tasas administrativas en caso de ser solicitantes de becas en la segunda quincena de septiembre. Los alumnos que soliciten beca del Ministerio de Educación únicamente abonan las tasas administrativas en el primer plazo. Si una vez resuelta la solicitud de beca, esta fuera denegada, el importe de las tasas de matrícula se les dividiría en los plazos de pago de matrícula que queden por emitir. Si no se abona la matrícula en los plazos fijados, el centro donde se esté matriculado/a iniciará, de oficio, el procedimiento de anulación de matrícula por impago, comunicando al interesado/a el inicio de dicho procedimiento. Cuándo se sepa que no se va a poder pagar la matrícula es muy conveniente hacérselo saber a la secretaría del centro antes que dejar anular la matrícula por impago. Más información: http://links.uv.es/Wm0216g.',\n",
       " '¿He fraccionado el pago de la matrícula, si no pago algún plazo qué pasa?': 'El impago de alguno de los plazos comportará la anulación de la matrícula, sin derecho al reintegro de las cantidades que se hubiesen abonado. No obstante,\\xa0a causa de la crisis sanitaria, y de manera excepcional, si la persona pagadora de los recibos está afectada por uno\\xa0ERTE\\xa0y lo justifica debidamente en el Centro, se tomarán las medidas oportunas para flexibilizar el pago.',\n",
       " '¿Hay alguna exención en el pago de la matrícula?': 'Las posibles exenciones y bonificaciones para el pago de las tasas de matrícula están recogidas en normativas de carácter estatal y/ autonómicas: - Los estudiantes beneficiarios de becas y/o ayudas al estudio no pagan tasas de matrícula - Los estudiantes miembros de familias numerosas y familias monoparentales pagan el 50% de la matrícula si son miembros de familias numerosas de categoría general y del 100% si son de categoría espacial. Han de presentar en la secretaría de su centro, cada curso académico el título de familia numerosa actualizado - Los estudiantes discapacitados con porcentaje igual o superior al 33% están exentos del pago de matrícula. - Los estudiantes afectados por actos terroristas está exentos de pago de matrícula - Gozarán de exención total del pago de las tasas las estudiantes víctimas de actos de violencia de género, así como los hijos e hijas a su cargo menores de 25 años. - Los estudiantes con matrícula de honor en la evaluación global del 2º Curso de Bachillerato o con premio extraordinario en el Bachillerato disfrutarán, durante el primer año y por una sola vez, de exención total del pago de las tasas por matrícula - Los estudiantes que obtengan calificación de \"matrícula de honor\" en sus estudios universitarios no pagarán el curso siguiente, si no cambian de estudios, el importe equivalente al número de créditos en los que hayan obtenido dicha calificación Más información: http://links.uv.es/Wm0216g.',\n",
       " '¿Puedo anular la matrícula?': 'SÍ, se puede solicitar la anulación de matrícula, tanto total como parcial a petición del estudiante , siempre que haya una causa sobrevenida y de fuerza mayor, se pide a través de administración electrónica y dentro de los periodos establecidos para ello en el calendario de gestión adminstrativa. La resolución estimatoria de la anulación de matrícula solo conllevará devolución de tasas académicas si la solicitud se efectuó antes del 31 de diciembre del año en curso. Más información: http://links.uv.es/5DnIv9B.',\n",
       " '¿Puedo modificar mi matrícula?': 'Las modificaciones de matricula sólo se pueden realizar dentro del plazo de matrícula . Fuera de estos plazos únicamente con carácter excepcional y previa justificación. Se entiende por modificación de matrícula; Cambio de asignatura, anulación o ampliación de asignaturas.',\n",
       " '¿De cuántas asignaturas me tengo que matricular?': 'Los estudiantes de la UV a tiempo completo deben matrícularse de al menos 36 créditos. Los estudiantes a tiempo parcial podrán matricularse de entre un mínimo de 24 créditos y un máximo de 36 créditos. Más información: http://links.uv.es/5DnIv9B.',\n",
       " '¿Cuántas veces puedo matricularme de la misma asignatura?': 'Los estudiantes que cursen titulaciones de grado dispondrán de un máximo de 6 convocatorias para superar una asignatura. Los estudiantes a los que les queden menos del 15 % de los créditos para finalizar los estudios no se les aplicará lo anterior. Más información: http://links.uv.es/39qX1aX.',\n",
       " '¿Qué es la matrícula a tiempo completo y la matrícula a tiempo parcial?': 'Son dos modalidades de matrícula que se pueden seleccionar cada curso y desde primero.',\n",
       " '¿Puedo matricularme de asignaturas sueltas?': 'Sí, sólo cuando se trate de asignaturas de formación básica. Más información: http://links.uv.es/5DnIv9B.',\n",
       " '¿Cuándo será la matrícula este año?': 'La matrícula es online desde cualquier ordenador o dispositivo electrónico, por medio de una aplicación informática que te permite realizar todos los trámites para formalizar la matrícula. Puedes conocer tu cita previa a través de la página web de la Universidad: http://links.uv.es/OpTT0y0 Más información: http://links.uv.es/y7wfCeK.',\n",
       " '¿Creo que por las circunstancias económicas que la crisis sanitaria ha producido en mi familia, no podré afrontar el pago de recibos?': 'Atendiendo a las circunstancias que económicamente ha producido la crisis sanitaria, la Universidad de Valencia a tomado determinadas medidas sobre el afrontamiento del pago de recibos y a puesto en marcha ayudas con fondos propios. Se puede consultar: http://links.uv.es/I2YNGIt.',\n",
       " '¿Cuando puedo solicitar cita de matrícula?': 'Puede consultar el calendario administrativo para este curso en: http://links.uv.es/qv6IeSS. No obstante, debido a la suspensión de actividad docente provocada por la crisis sanitaria, las fechas publicadas pueden no ser válidas.'}"
      ]
     },
     "execution_count": 7,
     "metadata": {},
     "output_type": "execute_result"
    }
   ],
   "source": [
    "faq_matricula"
   ]
  },
  {
   "cell_type": "markdown",
   "id": "871fb78c-9994-4ee6-8de2-a206d2270386",
   "metadata": {},
   "source": [
    "## Data augmentation para obtener más frases de entrenamiento\n",
    "\n",
    "Esta información la queremos añadir como frases de entrenamiento y respuestas del intent faq_matricula.\n",
    "\n",
    "Sin embargo, cada intent debe tener un mínimo de dos frases de entrenamiento y actualmente solo se tiene una.\n",
    "\n",
    "Para solucionarlo utilizaremos *Back Translation* una técnica de *Data Augmentation* que consiste en traducir la frase original a otro idioma y luego de vuelva al español para obtener una frase diferente con el mismo significado.\n",
    "\n",
    "En este caso utilizaremos los idiomas inglés, alemán, francés e italiano para realizar este aumento. Con la frase original tendremos un total de cinco frases de entrenamiento para cada intent."
   ]
  },
  {
   "cell_type": "code",
   "execution_count": 8,
   "id": "7224131d-af34-44a9-9eff-11ef5a02b13d",
   "metadata": {},
   "outputs": [],
   "source": [
    "back_translation_aug_en = naw.BackTranslationAug(\n",
    "    from_model_name=\"Helsinki-NLP/opus-mt-es-en\",\n",
    "    to_model_name=\"Helsinki-NLP/opus-mt-en-es\",\n",
    ")"
   ]
  },
  {
   "cell_type": "code",
   "execution_count": 9,
   "id": "45ec594d-78c3-4ece-961a-506eb875e8b7",
   "metadata": {},
   "outputs": [],
   "source": [
    "back_translation_aug_de = naw.BackTranslationAug(\n",
    "    from_model_name=\"Helsinki-NLP/opus-mt-es-de\",\n",
    "    to_model_name=\"Helsinki-NLP/opus-mt-de-es\",\n",
    ")"
   ]
  },
  {
   "cell_type": "code",
   "execution_count": 10,
   "id": "3e7291fd-4635-45bc-a12b-3d5513a6b2ed",
   "metadata": {},
   "outputs": [],
   "source": [
    "back_translation_aug_fr = naw.BackTranslationAug(\n",
    "    from_model_name=\"Helsinki-NLP/opus-mt-es-fr\",\n",
    "    to_model_name=\"Helsinki-NLP/opus-mt-fr-es\",\n",
    ")"
   ]
  },
  {
   "cell_type": "code",
   "execution_count": 11,
   "id": "ad5af716-3f5d-4b84-8090-02ec755a13d4",
   "metadata": {},
   "outputs": [],
   "source": [
    "back_translation_aug_it = naw.BackTranslationAug(\n",
    "    from_model_name=\"Helsinki-NLP/opus-mt-es-it\",\n",
    "    to_model_name=\"Helsinki-NLP/opus-mt-it-es\",\n",
    ")"
   ]
  },
  {
   "cell_type": "markdown",
   "id": "793747fb-7a7a-4efa-b3a3-a51c52ac879e",
   "metadata": {},
   "source": [
    "## Cambiar estructura de los datos para utilizarlos como frases de entrenamiento y respuestas\n",
    "\n",
    "Ahora transformaremos los datos y los guardaremos en ficheros de texto con la estructura necesaria para poder utilizarlos en el chatbot."
   ]
  },
  {
   "cell_type": "code",
   "execution_count": 12,
   "id": "24d1e7f9-6cde-4045-8e43-87d8f5b0fce8",
   "metadata": {},
   "outputs": [],
   "source": [
    "nlu = []\n",
    "responses = []\n",
    "\n",
    "for n, (pregunta, respuesta) in enumerate(faq_matricula.items()):\n",
    "    pregunta_yml = \"- intent: faq_matricula/\" + str(n) + \"\\n  examples: |\"\n",
    "    pregunta_yml += \"\\n    - \".join(\n",
    "        [\n",
    "            \"\",\n",
    "            pregunta,\n",
    "            back_translation_aug_en.augment(pregunta),\n",
    "            back_translation_aug_de.augment(pregunta),\n",
    "            back_translation_aug_fr.augment(pregunta),\n",
    "            back_translation_aug_it.augment(pregunta),\n",
    "        ]\n",
    "    )\n",
    "    nlu.append(pregunta_yml)\n",
    "    respuesta_yml = (\n",
    "        \"  utter_faq_matricula/\" + str(n) + ':\\n  - text: \"' + respuesta + '\"'\n",
    "    )\n",
    "    responses.append(respuesta_yml)"
   ]
  },
  {
   "cell_type": "code",
   "execution_count": 13,
   "id": "7e8aa82b-543b-4576-ad43-b18013619103",
   "metadata": {},
   "outputs": [
    {
     "data": {
      "text/plain": [
       "['- intent: faq_matricula/0\\n  examples: |\\n    - Si no consigo plaza en mi primera opción para la Universidad, ¿tengo que matricularme igual?\\n    - Si no consigo un lugar en mi primera elección para la universidad, ¿tengo que inscribirme de todos modos?\\n    - Si no tengo lugar en mi primera elección para la universidad, ¿tengo que registrarme ahora mismo?\\n    - Si no tengo lugar en mi primera opción para la universidad, ¿tengo que inscribirme de la misma manera?\\n    - Si no encuentro un lugar en mi primera elección para la universidad, ¿tengo que registrarme de todos modos?',\n",
       " '- intent: faq_matricula/1\\n  examples: |\\n    - ¿Qué pasa si me matriculo en la plaza obtenida, y posteriormente por lista de espera, me adjudican la titulación que yo quiero?\\n    - ¿Qué pasa si me inscribo en la posición obtenida, y luego por lista de espera, me otorgan el grado que quiero?\\n    - ¿Qué pasa si me inscribo en el lugar que he recibido y luego me dan el título que quiero en la lista de espera?\\n    - ¿Y si me inscribiera en la plaza, y luego en la lista de espera, me dieran el diploma que quería?\\n    - ¿Qué pasa si me inscribo en la plaza obtenida, y luego por la lista de espera, me asignan el título que quiero?',\n",
       " '- intent: faq_matricula/2\\n  examples: |\\n    - ¿Qué vale una matrícula en la Universidad?\\n    - ¿Cuánto vale una matrícula universitaria?\\n    - ¿Cuánto vale una matrícula en la universidad?\\n    - ¿Qué es una matrícula en la universidad?\\n    - ¿Qué vale una matrícula en la universidad?',\n",
       " '- intent: faq_matricula/3\\n  examples: |\\n    - ¿Cómo puedo pagar la matrícula en la Universitat?\\n    - ¿Cómo puedo pagar la matrícula en la Universidad?\\n    - ¿Cómo puedo pagar la matrícula en la universidad?\\n    - ¿Cómo puedo pagar mis matrículas en la universidad?\\n    - ¿Cómo puedo pagar la matrícula de la Universidad?',\n",
       " '- intent: faq_matricula/4\\n  examples: |\\n    - ¿He fraccionado el pago de la matrícula, si no pago algún plazo qué pasa?\\n    - ¿He repartido la matrícula, si no pago algún tiempo lo que pasa?\\n    - ¿He repartido el pago de la inscripción si no pago el plazo, qué pasa?\\n    - ¿Reembolsé la matrícula, si no pago un plazo lo que está pasando?\\n    - He dividido el pago de la matrícula, si no pago algún plazo, ¿qué pasa?',\n",
       " '- intent: faq_matricula/5\\n  examples: |\\n    - ¿Hay alguna exención en el pago de la matrícula?\\n    - ¿Hay alguna exención de las tasas de matrícula?\\n    - ¿Hay exención de la tasa de registro?\\n    - ¿Hay una exención de matrícula?\\n    - ¿Hay alguna exención en el pago de la matrícula?',\n",
       " '- intent: faq_matricula/6\\n  examples: |\\n    - ¿Puedo anular la matrícula?\\n    - ¿Puedo cancelar la matrícula?\\n    - ¿Puedo cancelar la matrícula?\\n    - ¿Puedo cancelar la matrícula?\\n    - ¿Puedo cancelar la matrícula?',\n",
       " '- intent: faq_matricula/7\\n  examples: |\\n    - ¿Puedo modificar mi matrícula?\\n    - ¿Puedo cambiar mi matrícula?\\n    - ¿Puedo cambiar mi matrícula?\\n    - ¿Puedo cambiar mi matrícula?\\n    - ¿Puedo cambiar mi matrícula?',\n",
       " '- intent: faq_matricula/8\\n  examples: |\\n    - ¿De cuántas asignaturas me tengo que matricular?\\n    - ¿En cuántos temas tengo que inscribirme?\\n    - ¿Cuántas materias tengo que inscribirme?\\n    - ¿Cuántas materias tengo que inscribirme?\\n    - ¿De cuántas materias tengo que registrarme?',\n",
       " '- intent: faq_matricula/9\\n  examples: |\\n    - ¿Cuántas veces puedo matricularme de la misma asignatura?\\n    - ¿Cuántas veces puedo inscribirme en el mismo tema?\\n    - ¿Cuántas veces puedo inscribirme en la misma sección?\\n    - ¿Cuántas veces puedo inscribirme en la misma materia?\\n    - ¿Cuántas veces puedo apuntarme a la misma materia?',\n",
       " '- intent: faq_matricula/10\\n  examples: |\\n    - ¿Qué es la matrícula a tiempo completo y la matrícula a tiempo parcial?\\n    - ¿Qué es la matrícula a tiempo completo y a tiempo parcial?\\n    - ¿Qué son los sellos a tiempo completo y a tiempo parcial?\\n    - ¿Qué es la inscripción a tiempo completo y la inscripción a tiempo parcial?\\n    - ¿ Qué es la matrícula a tiempo completo y la matrícula a tiempo parcial?',\n",
       " '- intent: faq_matricula/11\\n  examples: |\\n    - ¿Puedo matricularme de asignaturas sueltas?\\n    - ¿Puedo inscribirme en asignaturas individuales?\\n    - ¿Puedo registrarme para estudiar gratis?\\n    - ¿Puedo matricularme en clases libres?\\n    - ¿Puedo apuntarme a materias libres?',\n",
       " '- intent: faq_matricula/12\\n  examples: |\\n    - ¿Cuándo será la matrícula este año?\\n    - ¿Cuándo será la matrícula este año?\\n    - ¿Cuándo será la matrícula este año?\\n    - ¿Cuándo será la matrícula este año?\\n    - ¿Cuándo es la matrícula este año?',\n",
       " '- intent: faq_matricula/13\\n  examples: |\\n    - ¿Creo que por las circunstancias económicas que la crisis sanitaria ha producido en mi familia, no podré afrontar el pago de recibos?\\n    - ¿Creo que debido a las circunstancias económicas que la crisis de salud ha causado en mi familia, no podré enfrentar el pago de recibos?\\n    - ¿Crees que no podré pagar los recibos debido a las circunstancias económicas que han causado la crisis de salud en mi familia?\\n    - Creo que debido a las circunstancias económicas que la crisis sanitaria ha provocado en mi familia, ¿no podré pagar los recibos?\\n    - Creo que, dadas las circunstancias económicas que la crisis sanitaria ha causado en mi familia, ¿no podré hacer frente al pago de los recibos?',\n",
       " '- intent: faq_matricula/14\\n  examples: |\\n    - ¿Cuando puedo solicitar cita de matrícula?\\n    - ¿Cuándo puedo solicitar una matrícula?\\n    - ¿Cuándo puedo solicitar una cita?\\n    - ¿Cuándo puedo pedir una cita de matrícula?\\n    - ¿Cuándo puedo solicitar una cita?']"
      ]
     },
     "execution_count": 13,
     "metadata": {},
     "output_type": "execute_result"
    }
   ],
   "source": [
    "nlu"
   ]
  },
  {
   "cell_type": "code",
   "execution_count": 14,
   "id": "dd1544f4-005b-4004-9c9a-d2830c525557",
   "metadata": {},
   "outputs": [
    {
     "data": {
      "text/plain": [
       "['  utter_faq_matricula/0:\\n  - text: \"Todos los estudiantes admitidos para cursar estudios en la UV, independientemente del orden de preferencia de la preinscripción, deberán matricularse en el plazo estipulado si no quieren perder la plaza obtenida.\"',\n",
       " '  utter_faq_matricula/1:\\n  - text: \"Todos los estudiantes a los que se les ha asignado una plaza, y no era la primera solicitada, deberán matricularse en la titulación obtenida para no perder la plaza adjudicada. Si continúan en lista de espera y en algún llamamiento se les adjudica una plaza diferente a la obtenida, deben dirigirse al Centro en el que se han matriculado para anular la matrícula y dirigirse al Centro al que está adscrita la nueva titulación para realizar una nueva matrícula. Más información: http://links.uv.es/2FZ8evO.\"',\n",
       " '  utter_faq_matricula/2:\\n  - text: \"El coste de la matrícula para estudios oficiales (grados, másteres y doctorados) está limitado por precios públicos . El importe anual de las tasas académicas se establece por la Generalitat Valenciana (Decreto tasas) de acuerdo con los límites de incremento máximos y mínimos que determina el Ministerio de Educación. Más información: http://links.uv.es/6MnTHbo.\"',\n",
       " '  utter_faq_matricula/3:\\n  - text: \"La forma de pago ordinario en la Universitat de València es la domiciliación bancaria en cualquier entidad financiera y el pago fraccionado en dos o en ocho plazos. También, se puede optar por pago único. Los estudiantes de nuevo ingreso abonan el primer plazo de matrícula o las tasas administrativas en caso de ser solicitantes de becas en la segunda quincena de septiembre. Los alumnos que soliciten beca del Ministerio de Educación únicamente abonan las tasas administrativas en el primer plazo. Si una vez resuelta la solicitud de beca, esta fuera denegada, el importe de las tasas de matrícula se les dividiría en los plazos de pago de matrícula que queden por emitir. Si no se abona la matrícula en los plazos fijados, el centro donde se esté matriculado/a iniciará, de oficio, el procedimiento de anulación de matrícula por impago, comunicando al interesado/a el inicio de dicho procedimiento. Cuándo se sepa que no se va a poder pagar la matrícula es muy conveniente hacérselo saber a la secretaría del centro antes que dejar anular la matrícula por impago. Más información: http://links.uv.es/Wm0216g.\"',\n",
       " '  utter_faq_matricula/4:\\n  - text: \"El impago de alguno de los plazos comportará la anulación de la matrícula, sin derecho al reintegro de las cantidades que se hubiesen abonado. No obstante,\\xa0a causa de la crisis sanitaria, y de manera excepcional, si la persona pagadora de los recibos está afectada por uno\\xa0ERTE\\xa0y lo justifica debidamente en el Centro, se tomarán las medidas oportunas para flexibilizar el pago.\"',\n",
       " '  utter_faq_matricula/5:\\n  - text: \"Las posibles exenciones y bonificaciones para el pago de las tasas de matrícula están recogidas en normativas de carácter estatal y/ autonómicas: - Los estudiantes beneficiarios de becas y/o ayudas al estudio no pagan tasas de matrícula - Los estudiantes miembros de familias numerosas y familias monoparentales pagan el 50% de la matrícula si son miembros de familias numerosas de categoría general y del 100% si son de categoría espacial. Han de presentar en la secretaría de su centro, cada curso académico el título de familia numerosa actualizado - Los estudiantes discapacitados con porcentaje igual o superior al 33% están exentos del pago de matrícula. - Los estudiantes afectados por actos terroristas está exentos de pago de matrícula - Gozarán de exención total del pago de las tasas las estudiantes víctimas de actos de violencia de género, así como los hijos e hijas a su cargo menores de 25 años. - Los estudiantes con matrícula de honor en la evaluación global del 2º Curso de Bachillerato o con premio extraordinario en el Bachillerato disfrutarán, durante el primer año y por una sola vez, de exención total del pago de las tasas por matrícula - Los estudiantes que obtengan calificación de \"matrícula de honor\" en sus estudios universitarios no pagarán el curso siguiente, si no cambian de estudios, el importe equivalente al número de créditos en los que hayan obtenido dicha calificación Más información: http://links.uv.es/Wm0216g.\"',\n",
       " '  utter_faq_matricula/6:\\n  - text: \"SÍ, se puede solicitar la anulación de matrícula, tanto total como parcial a petición del estudiante , siempre que haya una causa sobrevenida y de fuerza mayor, se pide a través de administración electrónica y dentro de los periodos establecidos para ello en el calendario de gestión adminstrativa. La resolución estimatoria de la anulación de matrícula solo conllevará devolución de tasas académicas si la solicitud se efectuó antes del 31 de diciembre del año en curso. Más información: http://links.uv.es/5DnIv9B.\"',\n",
       " '  utter_faq_matricula/7:\\n  - text: \"Las modificaciones de matricula sólo se pueden realizar dentro del plazo de matrícula . Fuera de estos plazos únicamente con carácter excepcional y previa justificación. Se entiende por modificación de matrícula; Cambio de asignatura, anulación o ampliación de asignaturas.\"',\n",
       " '  utter_faq_matricula/8:\\n  - text: \"Los estudiantes de la UV a tiempo completo deben matrícularse de al menos 36 créditos. Los estudiantes a tiempo parcial podrán matricularse de entre un mínimo de 24 créditos y un máximo de 36 créditos. Más información: http://links.uv.es/5DnIv9B.\"',\n",
       " '  utter_faq_matricula/9:\\n  - text: \"Los estudiantes que cursen titulaciones de grado dispondrán de un máximo de 6 convocatorias para superar una asignatura. Los estudiantes a los que les queden menos del 15 % de los créditos para finalizar los estudios no se les aplicará lo anterior. Más información: http://links.uv.es/39qX1aX.\"',\n",
       " '  utter_faq_matricula/10:\\n  - text: \"Son dos modalidades de matrícula que se pueden seleccionar cada curso y desde primero.\"',\n",
       " '  utter_faq_matricula/11:\\n  - text: \"Sí, sólo cuando se trate de asignaturas de formación básica. Más información: http://links.uv.es/5DnIv9B.\"',\n",
       " '  utter_faq_matricula/12:\\n  - text: \"La matrícula es online desde cualquier ordenador o dispositivo electrónico, por medio de una aplicación informática que te permite realizar todos los trámites para formalizar la matrícula. Puedes conocer tu cita previa a través de la página web de la Universidad: http://links.uv.es/OpTT0y0 Más información: http://links.uv.es/y7wfCeK.\"',\n",
       " '  utter_faq_matricula/13:\\n  - text: \"Atendiendo a las circunstancias que económicamente ha producido la crisis sanitaria, la Universidad de Valencia a tomado determinadas medidas sobre el afrontamiento del pago de recibos y a puesto en marcha ayudas con fondos propios. Se puede consultar: http://links.uv.es/I2YNGIt.\"',\n",
       " '  utter_faq_matricula/14:\\n  - text: \"Puede consultar el calendario administrativo para este curso en: http://links.uv.es/qv6IeSS. No obstante, debido a la suspensión de actividad docente provocada por la crisis sanitaria, las fechas publicadas pueden no ser válidas.\"']"
      ]
     },
     "execution_count": 14,
     "metadata": {},
     "output_type": "execute_result"
    }
   ],
   "source": [
    "responses"
   ]
  },
  {
   "cell_type": "code",
   "execution_count": 15,
   "id": "01ebb5d5-543b-4776-a113-ab1e39fb2232",
   "metadata": {},
   "outputs": [],
   "source": [
    "with open(r\"..\\data\\internal\\nlu_faq_matricula.txt\", \"w\", encoding=\"utf-8\") as f:\n",
    "    f.write(\"\\n\".join(nlu))\n",
    "with open(\n",
    "    r\"..\\data\\internal\\responses_faq_matricula.txt\", \"w\", encoding=\"utf-8\"\n",
    ") as f:\n",
    "    f.write(\"\\n\".join(responses))"
   ]
  },
  {
   "cell_type": "code",
   "execution_count": null,
   "id": "bc3184d6-fcfc-4391-b822-949bde60f6a3",
   "metadata": {},
   "outputs": [],
   "source": []
  }
 ],
 "metadata": {
  "kernelspec": {
   "display_name": "Python (rasa-chatbot)",
   "language": "python",
   "name": "rasa-chatbot"
  },
  "language_info": {
   "codemirror_mode": {
    "name": "ipython",
    "version": 3
   },
   "file_extension": ".py",
   "mimetype": "text/x-python",
   "name": "python",
   "nbconvert_exporter": "python",
   "pygments_lexer": "ipython3",
   "version": "3.8.12"
  }
 },
 "nbformat": 4,
 "nbformat_minor": 5
}
