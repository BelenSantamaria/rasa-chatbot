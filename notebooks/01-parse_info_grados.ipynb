{
 "cells": [
  {
   "cell_type": "markdown",
   "id": "cc502421-2928-4b39-a929-5a97ca16b74d",
   "metadata": {},
   "source": [
    "# Extracción de nombre y url de cada grado"
   ]
  },
  {
   "cell_type": "code",
   "execution_count": 1,
   "id": "8d9f41f3-4b64-4411-897f-aa45b522c4c6",
   "metadata": {},
   "outputs": [],
   "source": [
    "from bs4 import BeautifulSoup\n",
    "import requests\n",
    "import pandas as pd\n",
    "import json\n",
    "import re"
   ]
  },
  {
   "cell_type": "markdown",
   "id": "48a49054-b685-4129-99fb-bdb5aa02be18",
   "metadata": {},
   "source": [
    "En primer luegar enviamos una petición a la página web de la universidad de la Universidad de Valencia que contiene la oferta de grados."
   ]
  },
  {
   "cell_type": "code",
   "execution_count": 2,
   "id": "ee131a12-e76a-4cba-b7c0-db5d3b2fa1ff",
   "metadata": {},
   "outputs": [],
   "source": [
    "url = \"https://www.uv.es/uvweb/universidad/es/estudios-grado/oferta-grados/oferta-grados-1285846094474.html\"\n",
    "r = requests.get(url)"
   ]
  },
  {
   "cell_type": "markdown",
   "id": "57e38534-eec0-4404-bd06-16e39162ec03",
   "metadata": {},
   "source": [
    "Ahora extraemos del contenido la información referente a cada grado"
   ]
  },
  {
   "cell_type": "code",
   "execution_count": 3,
   "id": "b2b10510-fea2-4ee9-93b3-499ead817e6a",
   "metadata": {},
   "outputs": [],
   "source": [
    "soup = BeautifulSoup(r.text, \"html.parser\")"
   ]
  },
  {
   "cell_type": "code",
   "execution_count": 4,
   "id": "fb5cc425-9154-4aed-be24-facb8645032d",
   "metadata": {},
   "outputs": [],
   "source": [
    "s = soup.find(\"div\", {\"class\": \"titulacioGraus\"})\n",
    "lines = s.find_all(\"div\", {\"class\": \"titulacio\"})"
   ]
  },
  {
   "cell_type": "code",
   "execution_count": 5,
   "id": "33fa4a37-2716-4cad-8abe-b22e052f7917",
   "metadata": {},
   "outputs": [
    {
     "data": {
      "text/plain": [
       "<div class=\"titulacio\">\n",
       "<div class=\"nomTitulacio info-expander\" data-id=\"0-0\" id=\"nomTitulacio0-0\">\n",
       "<div class=\"nomGrau\">Grado en Ciencia de Datos</div>\n",
       "<div class=\"iconTitulacio\">\n",
       "<i aria-hidden=\"true\" class=\"fa fa-plus\"></i>\n",
       "</div>\n",
       "</div><div class=\"infoTitulacio\" id=\"infoTitulacio0-0\" style=\"display: none;\">\n",
       "<ul class=\"titulacio-items\"><li><i aria-hidden=\"true\" class=\"fa fa-file-o\"></i><a href=\"https://www.uv.es/uvweb/universidad/es/estudios-grado/oferta-grados/oferta-grados/grado-ciencia-datos-1285846094474/Titulacio.html?id=1286036417905\" title=\"Ficha del Grado Grado en Ciencia de Datos\">Ficha del Grado</a> </li>\n",
       "<li><i aria-hidden=\"true\" class=\"fa fa-globe\"></i><a href=\"https://www.uv.es/grado-ciencia-datos/es/grado-ciencia-datos.html\" title=\"Web específica Grado en Ciencia de Datos\">Web específica</a></li>\n",
       "</ul>\n",
       "</div></div>"
      ]
     },
     "execution_count": 5,
     "metadata": {},
     "output_type": "execute_result"
    }
   ],
   "source": [
    "lines[0]"
   ]
  },
  {
   "cell_type": "markdown",
   "id": "f5bdbe83-cdcf-4a75-a846-ee1ad59846d1",
   "metadata": {},
   "source": [
    "La celda anterior muestra toda la información disponible para cada grado.\n",
    "\n",
    "A continuación, guardamos en el archivo '..\\data\\external\\info_grados.json' el nombre de la titulación y la url de la web específica."
   ]
  },
  {
   "cell_type": "code",
   "execution_count": 6,
   "id": "e799a92c-4e5c-4dc4-aa09-7330664eb303",
   "metadata": {},
   "outputs": [],
   "source": [
    "grados = {}\n",
    "\n",
    "blacklist = [\"grado\", \"doble\", \"grau\", \"en\"]\n",
    "\n",
    "\n",
    "for line in lines:\n",
    "    grado = line.find(\"div\", {\"class\": \"nomGrau\"}).text\n",
    "    if not grado.startswith(\"Dobles Titulaciones\"):\n",
    "        grado = [n.lower() for n in grado.split() if n.lower() not in blacklist]\n",
    "        grados[\" \".join(grado)] = line.find(\"a\").get(\"href\")\n",
    "\n",
    "grados[\n",
    "    \"informacion_general\"\n",
    "] = \"https://www.uv.es/uvweb/universidad/es/estudios-grado/oferta-grados/oferta-grados-1285846094474.html\""
   ]
  },
  {
   "cell_type": "code",
   "execution_count": 7,
   "id": "eac27ec2-03ec-4088-81c8-ad98dcc676f1",
   "metadata": {},
   "outputs": [],
   "source": [
    "with open(r\"..\\data\\external\\info_grados.json\", \"w\", encoding=\"utf-8\") as f:\n",
    "    json.dump(grados, f)"
   ]
  },
  {
   "cell_type": "markdown",
   "id": "f0f3919d-b6ca-4b08-b6b9-68a4c6809b7d",
   "metadata": {},
   "source": [
    "Por último, leemos el archivo creado para mostrar la información que contiene."
   ]
  },
  {
   "cell_type": "code",
   "execution_count": 8,
   "id": "5328b5ce-6adc-437c-a275-a7699aca524c",
   "metadata": {},
   "outputs": [
    {
     "data": {
      "text/plain": [
       "{'ciencia de datos': 'https://www.uv.es/uvweb/universidad/es/estudios-grado/oferta-grados/oferta-grados/grado-ciencia-datos-1285846094474/Titulacio.html?id=1286036417905',\n",
       " 'ingeniería electrónica de telecomunicación': 'https://www.uv.es/uvweb/universidad/es/estudios-grado/oferta-grados/oferta-grados/grado-ingenieria-electronica-telecomunicacion-1285846094474/Titulacio.html?id=1285847366749',\n",
       " 'ingeniería electrónica industrial': 'https://www.uv.es/uvweb/universidad/es/estudios-grado/oferta-grados/oferta-grados/grado-ingenieria-electronica-industrial-1285846094474/Titulacio.html?id=1285847366625',\n",
       " 'ingeniería informática': 'https://www.uv.es/uvweb/universidad/es/estudios-grado/oferta-grados/oferta-grados/grado-ingenieria-informatica-1285846094474/Titulacio.html?id=1285847366789',\n",
       " 'ingeniería multimedia': 'https://www.uv.es/uvweb/universidad/es/estudios-grado/oferta-grados/oferta-grados/grado-ingenieria-multimedia-1285846094474/Titulacio.html?id=1286036744473',\n",
       " 'ingeniería química': 'https://www.uv.es/uvweb/universidad/es/estudios-grado/oferta-grados/oferta-grados/grado-ingenieria-quimica-1285846094474/Titulacio.html?id=1285847338746',\n",
       " 'ingeniería telemática': 'https://www.uv.es/uvweb/universidad/es/estudios-grado/oferta-grados/oferta-grados/grado-ingenieria-telematica-1285846094474/Titulacio.html?id=1285847322251',\n",
       " 'estudios hispánicos: lengua española y sus literaturas': 'https://www.uv.es/uvweb/universidad/es/estudios-grado/oferta-grados/oferta-grados/grado-estudios-hispanicos-lengua-espanola-sus-literaturas-1285846094474/Titulacio.html?id=1285847387862',\n",
       " 'estudios ingleses': 'https://www.uv.es/uvweb/universidad/es/estudios-grado/oferta-grados/oferta-grados/grado-estudios-ingleses-1285846094474/Titulacio.html?id=1285847387840',\n",
       " 'filología catalana': 'https://www.uv.es/uvweb/universidad/es/estudios-grado/oferta-grados/oferta-grados/grado-filologia-catalana-1285846094474/Titulacio.html?id=1285847387884',\n",
       " 'filosofía': 'https://www.uv.es/uvweb/universidad/es/estudios-grado/oferta-grados/oferta-grados/grado-filosofia-1285846094474/Titulacio.html?id=1286076704219',\n",
       " 'historia': 'https://www.uv.es/uvweb/universidad/es/estudios-grado/oferta-grados/oferta-grados/grado-historia-1285846094474/Titulacio.html?id=1285847387950',\n",
       " 'historia del arte': 'https://www.uv.es/uvweb/universidad/es/estudios-grado/oferta-grados/oferta-grados/grado-historia-del-arte-1285846094474/Titulacio.html?id=1285847387975',\n",
       " 'lenguas modernas y sus literaturas': 'https://www.uv.es/uvweb/universidad/es/estudios-grado/oferta-grados/oferta-grados/grado-lenguas-modernas-sus-literaturas-1285846094474/Titulacio.html?id=1285847387997',\n",
       " 'traducción y mediación interlingüísticalengua b alemán': 'https://www.uv.es/uvweb/universidad/es/estudios-grado/oferta-grados/oferta-grados/grado-traduccion-mediacion-interlinguistica-br/-lengua-aleman-1285846094474/Titulacio.html?id=1285847392696',\n",
       " 'traducción y mediación interlingüística lengua b francés': 'https://www.uv.es/uvweb/universidad/es/estudios-grado/oferta-grados/oferta-grados/grado-traduccion-mediacion-interlinguistica-br/-lengua-frances-1285846094474/Titulacio.html?id=1285847392674',\n",
       " 'traducción y mediación interlingüísticalengua b inglés': 'https://www.uv.es/uvweb/universidad/es/estudios-grado/oferta-grados/oferta-grados/grado-traduccion-mediacion-interlinguistica-br/-lengua-ingles-1285846094474/Titulacio.html?id=1285847388019',\n",
       " 'filología clásica': 'https://www.uv.es/uvweb/universidad/es/estudios-grado/oferta-grados/oferta-grados/grau-filologia-clasica-1285846094474/Titulacio.html?id=1286150141756',\n",
       " 'biología': 'https://www.uv.es/uvweb/universidad/es/estudios-grado/oferta-grados/oferta-grados/grado-biologia-1285846094474/Titulacio.html?id=1285847387186',\n",
       " 'bioquímica y ciencias biomédicas': 'https://www.uv.es/uvweb/universidad/es/estudios-grado/oferta-grados/oferta-grados/grado-bioquimica-ciencias-biomedicas-1285846094474/Titulacio.html?id=1285950845350',\n",
       " 'biotecnología': 'https://www.uv.es/uvweb/universidad/es/estudios-grado/oferta-grados/oferta-grados/grado-biotecnologia-1285846094474/Titulacio.html?id=1285847387230',\n",
       " 'ciencias ambientales': 'https://www.uv.es/uvweb/universidad/es/estudios-grado/oferta-grados/oferta-grados/grado-ciencias-ambientales-1285846094474/Titulacio.html?id=1285847387252',\n",
       " 'ciencias gastronómicas': 'https://www.uv.es/uvweb/universidad/es/estudios-grado/oferta-grados/oferta-grados/grado-ciencias-gastronomicas-1285846094474/Titulacio.html?id=1285937583385',\n",
       " 'física': 'https://www.uv.es/uvweb/universidad/es/estudios-grado/oferta-grados/oferta-grados/grado-fisica-1285846094474/Titulacio.html?id=1285847387274',\n",
       " 'matemáticas': 'https://www.uv.es/uvweb/universidad/es/estudios-grado/oferta-grados/oferta-grados/grado-matematicas-1285846094474/Titulacio.html?id=1285847387296',\n",
       " 'química': 'https://www.uv.es/uvweb/universidad/es/estudios-grado/oferta-grados/oferta-grados/grado-quimica-1285846094474/Titulacio.html?id=1286036741585',\n",
       " 'ciencia y tecnología de los alimentos': 'https://www.uv.es/uvweb/universidad/es/estudios-grado/oferta-grados/oferta-grados/grado-ciencia-tecnologia-alimentos-1285846094474/Titulacio.html?id=1285847386951',\n",
       " 'enfermería': 'https://www.uv.es/uvweb/universidad/es/estudios-grado/oferta-grados/oferta-grados/grado-enfermeria-1285846094474/Titulacio.html?id=1285847387010',\n",
       " 'farmacia': 'https://www.uv.es/uvweb/universidad/es/estudios-grado/oferta-grados/oferta-grados/grado-farmacia-1285846094474/Titulacio.html?id=1285847331709',\n",
       " 'fisioterapia': 'https://www.uv.es/uvweb/universidad/es/estudios-grado/oferta-grados/oferta-grados/grado-fisioterapia-1285846094474/Titulacio.html?id=1285847386973',\n",
       " 'logopedia': 'https://www.uv.es/uvweb/universidad/es/estudios-grado/oferta-grados/oferta-grados/grado-logopedia-1285846094474/Titulacio.html?id=1285847387032',\n",
       " 'medicina': 'https://www.uv.es/uvweb/universidad/es/estudios-grado/oferta-grados/oferta-grados/grado-medicina-1285846094474/Titulacio.html?id=1285847387054',\n",
       " 'nutrición humana y dietética': 'https://www.uv.es/uvweb/universidad/es/estudios-grado/oferta-grados/oferta-grados/grado-nutricion-humana-dietetica-1285846094474/Titulacio.html?id=1285847387076',\n",
       " 'odontología': 'https://www.uv.es/uvweb/universidad/es/estudios-grado/oferta-grados/oferta-grados/grado-odontologia-1285846094474/Titulacio.html?id=1285847387098',\n",
       " 'óptica y optometría': 'https://www.uv.es/uvweb/universidad/es/estudios-grado/oferta-grados/oferta-grados/grado-optica-optometria-1285846094474/Titulacio.html?id=1285847387120',\n",
       " 'podología': 'https://www.uv.es/uvweb/universidad/es/estudios-grado/oferta-grados/oferta-grados/grado-podologia-1285846094474/Titulacio.html?id=1285847387142',\n",
       " 'psicología': 'https://www.uv.es/uvweb/universidad/es/estudios-grado/oferta-grados/oferta-grados/grado-psicologia-1285846094474/Titulacio.html?id=1285847387164',\n",
       " 'ade: administración y dirección de empresas': 'https://www.uv.es/uvweb/universidad/es/estudios-grado/oferta-grados/oferta-grados/grado-ade-administracion-direccion-empresas-1285846094474/Titulacio.html?id=1285847455548',\n",
       " 'ciencias de la actividad física y del deporte': 'https://www.uv.es/uvweb/universidad/es/estudios-grado/oferta-grados/oferta-grados/grado-ciencias-actividad-fisica-del-deporte-1285846094474/Titulacio.html?id=1285847455580',\n",
       " 'ciencias políticas y de la administración pública': 'https://www.uv.es/uvweb/universidad/es/estudios-grado/oferta-grados/oferta-grados/grado-ciencias-politicas-administracion-publica-1285846094474/Titulacio.html?id=1286196111766',\n",
       " 'comunicación audiovisual 2021': 'https://www.uv.es/uvweb/universidad/es/estudios-grado/oferta-grados/oferta-grados/grado-comunicacion-audiovisual-2021-1285846094474/Titulacio.html?id=1286139270847',\n",
       " 'criminología': 'https://www.uv.es/uvweb/universidad/es/estudios-grado/oferta-grados/oferta-grados/grado-criminologia-1285846094474/Titulacio.html?id=1285847455660',\n",
       " 'derecho': 'https://www.uv.es/uvweb/universidad/es/estudios-grado/oferta-grados/oferta-grados/grado-derecho-1285846094474/Titulacio.html?id=1285847455682',\n",
       " 'economía': 'https://www.uv.es/uvweb/universidad/es/estudios-grado/oferta-grados/oferta-grados/grado-economia-1285846094474/Titulacio.html?id=1285847455792',\n",
       " 'educación social': 'https://www.uv.es/uvweb/universidad/es/estudios-grado/oferta-grados/oferta-grados/grado-educacion-social-1285846094474/Titulacio.html?id=1285847456314',\n",
       " 'finanzas y contabilidad': 'https://www.uv.es/uvweb/universidad/es/estudios-grado/oferta-grados/oferta-grados/grado-finanzas-contabilidad-1285846094474/Titulacio.html?id=1285847456485',\n",
       " 'geografía y medio ambiente': 'https://www.uv.es/uvweb/universidad/es/estudios-grado/oferta-grados/oferta-grados/grado-geografia-medio-ambiente-1285846094474/Titulacio.html?id=1285847456633',\n",
       " 'información y documentación': 'https://www.uv.es/uvweb/universidad/es/estudios-grado/oferta-grados/oferta-grados/grado-informacion-documentacion-1285846094474/Titulacio.html?id=1285847456671',\n",
       " 'inteligencia y analítica de negocios': 'https://www.uv.es/uvweb/universidad/es/estudios-grado/oferta-grados/oferta-grados/grado-inteligencia-analitica-negocios-1285846094474/Titulacio.html?id=1286071146939',\n",
       " 'international business / negocios internacionales': 'https://www.uv.es/uvweb/universidad/es/estudios-grado/oferta-grados/oferta-grados/grado-international-business-/-negocios-internacionales-1285846094474/Titulacio.html?id=1285847460674',\n",
       " 'maestro/a educación infantil': 'https://www.uv.es/uvweb/universidad/es/estudios-grado/oferta-grados/oferta-grados/grado-maestro/educacion-infantil-1285846094474/Titulacio.html?id=1285847460706',\n",
       " 'maestro/a educación primaria': 'https://www.uv.es/uvweb/universidad/es/estudios-grado/oferta-grados/oferta-grados/grado-maestro/educacion-primaria-1285846094474/Titulacio.html?id=1285847460730',\n",
       " 'pedagogía': 'https://www.uv.es/uvweb/universidad/es/estudios-grado/oferta-grados/oferta-grados/grado-pedagogia-1285846094474/Titulacio.html?id=1285847460752',\n",
       " 'periodismo 2021': 'https://www.uv.es/uvweb/universidad/es/estudios-grado/oferta-grados/oferta-grados/grado-periodismo-2021-1285846094474/Titulacio.html?id=1286139267484',\n",
       " 'relaciones laborales y recursos humanos': 'https://www.uv.es/uvweb/universidad/es/estudios-grado/oferta-grados/oferta-grados/grado-relaciones-laborales-recursos-humanos-1285846094474/Titulacio.html?id=1285847461424',\n",
       " 'sociología': 'https://www.uv.es/uvweb/universidad/es/estudios-grado/oferta-grados/oferta-grados/grado-sociologia-1285846094474/Titulacio.html?id=1285847461460',\n",
       " 'trabajo social': 'https://www.uv.es/uvweb/universidad/es/estudios-grado/oferta-grados/oferta-grados/grado-trabajo-social-1285846094474/Titulacio.html?id=1285847315808',\n",
       " 'turismo': 'https://www.uv.es/uvweb/universidad/es/estudios-grado/oferta-grados/oferta-grados/grado-turismo-1285846094474/Titulacio.html?id=1285847461484',\n",
       " 'administración y dirección de empresas (ade) + derecho': 'https://www.uv.es/uvweb/universidad/es/estudios-grado/oferta-grados/oferta-grados/doble-grado-administracion-direccion-empresas-ade-derecho-1285846094474/Titulacio.html?id=1285847697474',\n",
       " 'derecho y criminología': 'https://www.uv.es/uvweb/universidad/es/estudios-grado/oferta-grados/oferta-grados/doble-grado-derecho-criminologia-1285846094474/Titulacio.html?id=1285850211513',\n",
       " 'derecho y economía': 'https://www.uv.es/uvweb/universidad/es/estudios-grado/oferta-grados/oferta-grados/doble-grado-derecho-economia-1285846094474/Titulacio.html?id=1286182631220',\n",
       " 'derecho y ciencias políticas y de la administración pública': 'https://www.uv.es/uvweb/universidad/es/estudios-grado/oferta-grados/oferta-grados/doble-grado-derecho-ciencias-politicas-administracion-publica-1285846094474/Titulacio.html?id=1286204158481',\n",
       " 'farmacia y nutrición humana y dietética': 'https://www.uv.es/uvweb/universidad/es/estudios-grado/oferta-grados/oferta-grados/doble-grado-farmacia-nutricion-humana-dietetica-1285846094474/Titulacio.html?id=1285870306896',\n",
       " 'física y matemáticas': 'https://www.uv.es/uvweb/universidad/es/estudios-grado/oferta-grados/oferta-grados/doble-grado-fisica-matematicas-1285846094474/Titulacio.html?id=1286114875800',\n",
       " 'sociología y ciencias políticas y de la administración pública': 'https://www.uv.es/uvweb/universidad/es/estudios-grado/oferta-grados/oferta-grados/doble-grado-sociologia-ciencias-politicas-administracion-publica-1285846094474/Titulacio.html?id=1286180055355',\n",
       " 'turismo y ade': 'https://www.uv.es/uvweb/universidad/es/estudios-grado/oferta-grados/oferta-grados/doble-grado-turismo-ade-1285846094474/Titulacio.html?id=1285928089910',\n",
       " 'física y química': 'https://www.uv.es/uvweb/universidad/es/estudios-grado/oferta-grados/oferta-grados/doble-grau-fisica-quimica-1285846094474/Titulacio.html?id=1286114883700',\n",
       " 'informacion_general': 'https://www.uv.es/uvweb/universidad/es/estudios-grado/oferta-grados/oferta-grados-1285846094474.html'}"
      ]
     },
     "execution_count": 8,
     "metadata": {},
     "output_type": "execute_result"
    }
   ],
   "source": [
    "with open(r\"..\\data\\external\\info_grados.json\", \"r\") as f:\n",
    "    info = json.load(f)\n",
    "info"
   ]
  },
  {
   "cell_type": "markdown",
   "id": "d4f148d0-c7bf-41a9-83d1-b2d56c1110c1",
   "metadata": {},
   "source": [
    "Además, guardamos solo el nombre de todos los grados en un documento de texto para realizar la extracción de la entidad 'grado'"
   ]
  },
  {
   "cell_type": "code",
   "execution_count": 9,
   "id": "a6e53e08-fdbe-4d49-9c52-01cdf581a45c",
   "metadata": {},
   "outputs": [],
   "source": [
    "with open(r\"..\\data\\external\\grados.txt\", \"w\", encoding=\"utf-8\") as f:\n",
    "    f.write(\"\\n\".join(info.keys()))"
   ]
  },
  {
   "cell_type": "code",
   "execution_count": null,
   "id": "c4f91808-7ee0-48f3-ae0d-4a543d933c73",
   "metadata": {},
   "outputs": [],
   "source": []
  }
 ],
 "metadata": {
  "kernelspec": {
   "display_name": "Python (rasa-chatbot)",
   "language": "python",
   "name": "rasa-chatbot"
  },
  "language_info": {
   "codemirror_mode": {
    "name": "ipython",
    "version": 3
   },
   "file_extension": ".py",
   "mimetype": "text/x-python",
   "name": "python",
   "nbconvert_exporter": "python",
   "pygments_lexer": "ipython3",
   "version": "3.8.12"
  }
 },
 "nbformat": 4,
 "nbformat_minor": 5
}
